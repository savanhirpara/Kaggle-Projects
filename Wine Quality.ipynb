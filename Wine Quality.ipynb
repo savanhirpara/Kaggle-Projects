{
 "cells": [
  {
   "cell_type": "markdown",
   "metadata": {},
   "source": [
    "# Data Science Project: Wine Quality Dataset"
   ]
  },
  {
   "cell_type": "markdown",
   "metadata": {},
   "source": [
    "### Predicting Wine Quality from its Chemical features"
   ]
  },
  {
   "cell_type": "markdown",
   "metadata": {},
   "source": [
    "##### Importing the required libraries for the analysis."
   ]
  },
  {
   "cell_type": "code",
   "execution_count": 205,
   "metadata": {},
   "outputs": [],
   "source": [
    "import numpy as np\n",
    "import pandas as pd\n",
    "import matplotlib as matplot\n",
    "import matplotlib.pyplot as plt\n",
    "import seaborn as sns\n",
    "%matplotlib inline\n",
    "from patsy import dmatrices\n",
    "import statsmodels.api as sm\n",
    "import statsmodels.formula.api as smf\n",
    "from sklearn.linear_model import LogisticRegression\n",
    "from sklearn.neighbors import KNeighborsClassifier"
   ]
  },
  {
   "cell_type": "code",
   "execution_count": 2,
   "metadata": {},
   "outputs": [],
   "source": [
    "#reading the dataset from the computer location.\n",
    "data = pd.read_csv('C:/Users/savan/Desktop/DS/Projects/winequality.csv')"
   ]
  },
  {
   "cell_type": "code",
   "execution_count": 46,
   "metadata": {},
   "outputs": [
    {
     "data": {
      "text/html": [
       "<div>\n",
       "<style scoped>\n",
       "    .dataframe tbody tr th:only-of-type {\n",
       "        vertical-align: middle;\n",
       "    }\n",
       "\n",
       "    .dataframe tbody tr th {\n",
       "        vertical-align: top;\n",
       "    }\n",
       "\n",
       "    .dataframe thead th {\n",
       "        text-align: right;\n",
       "    }\n",
       "</style>\n",
       "<table border=\"1\" class=\"dataframe\">\n",
       "  <thead>\n",
       "    <tr style=\"text-align: right;\">\n",
       "      <th></th>\n",
       "      <th>fixed acidity</th>\n",
       "      <th>volatile acidity</th>\n",
       "      <th>citric acid</th>\n",
       "      <th>residual sugar</th>\n",
       "      <th>chlorides</th>\n",
       "      <th>free sulfur dioxide</th>\n",
       "      <th>total sulfur dioxide</th>\n",
       "      <th>density</th>\n",
       "      <th>pH</th>\n",
       "      <th>sulphates</th>\n",
       "      <th>alcohol</th>\n",
       "      <th>quality</th>\n",
       "    </tr>\n",
       "  </thead>\n",
       "  <tbody>\n",
       "    <tr>\n",
       "      <th>0</th>\n",
       "      <td>7.4</td>\n",
       "      <td>0.70</td>\n",
       "      <td>0.00</td>\n",
       "      <td>1.9</td>\n",
       "      <td>0.076</td>\n",
       "      <td>11.0</td>\n",
       "      <td>34.0</td>\n",
       "      <td>0.9978</td>\n",
       "      <td>3.51</td>\n",
       "      <td>0.56</td>\n",
       "      <td>9.4</td>\n",
       "      <td>5</td>\n",
       "    </tr>\n",
       "    <tr>\n",
       "      <th>1</th>\n",
       "      <td>7.8</td>\n",
       "      <td>0.88</td>\n",
       "      <td>0.00</td>\n",
       "      <td>2.6</td>\n",
       "      <td>0.098</td>\n",
       "      <td>25.0</td>\n",
       "      <td>67.0</td>\n",
       "      <td>0.9968</td>\n",
       "      <td>3.20</td>\n",
       "      <td>0.68</td>\n",
       "      <td>9.8</td>\n",
       "      <td>5</td>\n",
       "    </tr>\n",
       "    <tr>\n",
       "      <th>2</th>\n",
       "      <td>7.8</td>\n",
       "      <td>0.76</td>\n",
       "      <td>0.04</td>\n",
       "      <td>2.3</td>\n",
       "      <td>0.092</td>\n",
       "      <td>15.0</td>\n",
       "      <td>54.0</td>\n",
       "      <td>0.9970</td>\n",
       "      <td>3.26</td>\n",
       "      <td>0.65</td>\n",
       "      <td>9.8</td>\n",
       "      <td>5</td>\n",
       "    </tr>\n",
       "    <tr>\n",
       "      <th>3</th>\n",
       "      <td>11.2</td>\n",
       "      <td>0.28</td>\n",
       "      <td>0.56</td>\n",
       "      <td>1.9</td>\n",
       "      <td>0.075</td>\n",
       "      <td>17.0</td>\n",
       "      <td>60.0</td>\n",
       "      <td>0.9980</td>\n",
       "      <td>3.16</td>\n",
       "      <td>0.58</td>\n",
       "      <td>9.8</td>\n",
       "      <td>6</td>\n",
       "    </tr>\n",
       "    <tr>\n",
       "      <th>4</th>\n",
       "      <td>7.4</td>\n",
       "      <td>0.70</td>\n",
       "      <td>0.00</td>\n",
       "      <td>1.9</td>\n",
       "      <td>0.076</td>\n",
       "      <td>11.0</td>\n",
       "      <td>34.0</td>\n",
       "      <td>0.9978</td>\n",
       "      <td>3.51</td>\n",
       "      <td>0.56</td>\n",
       "      <td>9.4</td>\n",
       "      <td>5</td>\n",
       "    </tr>\n",
       "  </tbody>\n",
       "</table>\n",
       "</div>"
      ],
      "text/plain": [
       "   fixed acidity  volatile acidity  citric acid  residual sugar  chlorides  \\\n",
       "0            7.4              0.70         0.00             1.9      0.076   \n",
       "1            7.8              0.88         0.00             2.6      0.098   \n",
       "2            7.8              0.76         0.04             2.3      0.092   \n",
       "3           11.2              0.28         0.56             1.9      0.075   \n",
       "4            7.4              0.70         0.00             1.9      0.076   \n",
       "\n",
       "   free sulfur dioxide  total sulfur dioxide  density    pH  sulphates  \\\n",
       "0                 11.0                  34.0   0.9978  3.51       0.56   \n",
       "1                 25.0                  67.0   0.9968  3.20       0.68   \n",
       "2                 15.0                  54.0   0.9970  3.26       0.65   \n",
       "3                 17.0                  60.0   0.9980  3.16       0.58   \n",
       "4                 11.0                  34.0   0.9978  3.51       0.56   \n",
       "\n",
       "   alcohol  quality  \n",
       "0      9.4        5  \n",
       "1      9.8        5  \n",
       "2      9.8        5  \n",
       "3      9.8        6  \n",
       "4      9.4        5  "
      ]
     },
     "execution_count": 46,
     "metadata": {},
     "output_type": "execute_result"
    }
   ],
   "source": [
    "#Understanding and getting to know the data and how it looks.\n",
    "data.head()"
   ]
  },
  {
   "cell_type": "code",
   "execution_count": 17,
   "metadata": {},
   "outputs": [
    {
     "data": {
      "text/plain": [
       "(1599, 12)"
      ]
     },
     "execution_count": 17,
     "metadata": {},
     "output_type": "execute_result"
    }
   ],
   "source": [
    "#Getting the shape of the Dataframe\n",
    "data.shape"
   ]
  },
  {
   "cell_type": "code",
   "execution_count": 47,
   "metadata": {},
   "outputs": [
    {
     "data": {
      "text/plain": [
       "fixed acidity           0\n",
       "volatile acidity        0\n",
       "citric acid             0\n",
       "residual sugar          0\n",
       "chlorides               0\n",
       "free sulfur dioxide     0\n",
       "total sulfur dioxide    0\n",
       "density                 0\n",
       "pH                      0\n",
       "sulphates               0\n",
       "alcohol                 0\n",
       "quality                 0\n",
       "dtype: int64"
      ]
     },
     "execution_count": 47,
     "metadata": {},
     "output_type": "execute_result"
    }
   ],
   "source": [
    "#Checking in about the null values in a dataframe\n",
    "data.isnull().sum()"
   ]
  },
  {
   "cell_type": "code",
   "execution_count": 48,
   "metadata": {},
   "outputs": [
    {
     "name": "stdout",
     "output_type": "stream",
     "text": [
      "<class 'pandas.core.frame.DataFrame'>\n",
      "RangeIndex: 1599 entries, 0 to 1598\n",
      "Data columns (total 12 columns):\n",
      "fixed acidity           1599 non-null float64\n",
      "volatile acidity        1599 non-null float64\n",
      "citric acid             1599 non-null float64\n",
      "residual sugar          1599 non-null float64\n",
      "chlorides               1599 non-null float64\n",
      "free sulfur dioxide     1599 non-null float64\n",
      "total sulfur dioxide    1599 non-null float64\n",
      "density                 1599 non-null float64\n",
      "pH                      1599 non-null float64\n",
      "sulphates               1599 non-null float64\n",
      "alcohol                 1599 non-null float64\n",
      "quality                 1599 non-null int64\n",
      "dtypes: float64(11), int64(1)\n",
      "memory usage: 150.0 KB\n"
     ]
    }
   ],
   "source": [
    "#Checking the data types and the number of entries in each of the column.\n",
    "data.info()"
   ]
  },
  {
   "cell_type": "code",
   "execution_count": 49,
   "metadata": {},
   "outputs": [
    {
     "data": {
      "text/html": [
       "<div>\n",
       "<style scoped>\n",
       "    .dataframe tbody tr th:only-of-type {\n",
       "        vertical-align: middle;\n",
       "    }\n",
       "\n",
       "    .dataframe tbody tr th {\n",
       "        vertical-align: top;\n",
       "    }\n",
       "\n",
       "    .dataframe thead th {\n",
       "        text-align: right;\n",
       "    }\n",
       "</style>\n",
       "<table border=\"1\" class=\"dataframe\">\n",
       "  <thead>\n",
       "    <tr style=\"text-align: right;\">\n",
       "      <th></th>\n",
       "      <th>fixed acidity</th>\n",
       "      <th>volatile acidity</th>\n",
       "      <th>citric acid</th>\n",
       "      <th>residual sugar</th>\n",
       "      <th>chlorides</th>\n",
       "      <th>free sulfur dioxide</th>\n",
       "      <th>total sulfur dioxide</th>\n",
       "      <th>density</th>\n",
       "      <th>pH</th>\n",
       "      <th>sulphates</th>\n",
       "      <th>alcohol</th>\n",
       "      <th>quality</th>\n",
       "    </tr>\n",
       "  </thead>\n",
       "  <tbody>\n",
       "    <tr>\n",
       "      <th>count</th>\n",
       "      <td>1599.000000</td>\n",
       "      <td>1599.000000</td>\n",
       "      <td>1599.000000</td>\n",
       "      <td>1599.000000</td>\n",
       "      <td>1599.000000</td>\n",
       "      <td>1599.000000</td>\n",
       "      <td>1599.000000</td>\n",
       "      <td>1599.000000</td>\n",
       "      <td>1599.000000</td>\n",
       "      <td>1599.000000</td>\n",
       "      <td>1599.000000</td>\n",
       "      <td>1599.000000</td>\n",
       "    </tr>\n",
       "    <tr>\n",
       "      <th>mean</th>\n",
       "      <td>8.319637</td>\n",
       "      <td>0.527821</td>\n",
       "      <td>0.270976</td>\n",
       "      <td>2.538806</td>\n",
       "      <td>0.087467</td>\n",
       "      <td>15.874922</td>\n",
       "      <td>46.467792</td>\n",
       "      <td>0.996747</td>\n",
       "      <td>3.311113</td>\n",
       "      <td>0.658149</td>\n",
       "      <td>10.422983</td>\n",
       "      <td>5.636023</td>\n",
       "    </tr>\n",
       "    <tr>\n",
       "      <th>std</th>\n",
       "      <td>1.741096</td>\n",
       "      <td>0.179060</td>\n",
       "      <td>0.194801</td>\n",
       "      <td>1.409928</td>\n",
       "      <td>0.047065</td>\n",
       "      <td>10.460157</td>\n",
       "      <td>32.895324</td>\n",
       "      <td>0.001887</td>\n",
       "      <td>0.154386</td>\n",
       "      <td>0.169507</td>\n",
       "      <td>1.065668</td>\n",
       "      <td>0.807569</td>\n",
       "    </tr>\n",
       "    <tr>\n",
       "      <th>min</th>\n",
       "      <td>4.600000</td>\n",
       "      <td>0.120000</td>\n",
       "      <td>0.000000</td>\n",
       "      <td>0.900000</td>\n",
       "      <td>0.012000</td>\n",
       "      <td>1.000000</td>\n",
       "      <td>6.000000</td>\n",
       "      <td>0.990070</td>\n",
       "      <td>2.740000</td>\n",
       "      <td>0.330000</td>\n",
       "      <td>8.400000</td>\n",
       "      <td>3.000000</td>\n",
       "    </tr>\n",
       "    <tr>\n",
       "      <th>25%</th>\n",
       "      <td>7.100000</td>\n",
       "      <td>0.390000</td>\n",
       "      <td>0.090000</td>\n",
       "      <td>1.900000</td>\n",
       "      <td>0.070000</td>\n",
       "      <td>7.000000</td>\n",
       "      <td>22.000000</td>\n",
       "      <td>0.995600</td>\n",
       "      <td>3.210000</td>\n",
       "      <td>0.550000</td>\n",
       "      <td>9.500000</td>\n",
       "      <td>5.000000</td>\n",
       "    </tr>\n",
       "    <tr>\n",
       "      <th>50%</th>\n",
       "      <td>7.900000</td>\n",
       "      <td>0.520000</td>\n",
       "      <td>0.260000</td>\n",
       "      <td>2.200000</td>\n",
       "      <td>0.079000</td>\n",
       "      <td>14.000000</td>\n",
       "      <td>38.000000</td>\n",
       "      <td>0.996750</td>\n",
       "      <td>3.310000</td>\n",
       "      <td>0.620000</td>\n",
       "      <td>10.200000</td>\n",
       "      <td>6.000000</td>\n",
       "    </tr>\n",
       "    <tr>\n",
       "      <th>75%</th>\n",
       "      <td>9.200000</td>\n",
       "      <td>0.640000</td>\n",
       "      <td>0.420000</td>\n",
       "      <td>2.600000</td>\n",
       "      <td>0.090000</td>\n",
       "      <td>21.000000</td>\n",
       "      <td>62.000000</td>\n",
       "      <td>0.997835</td>\n",
       "      <td>3.400000</td>\n",
       "      <td>0.730000</td>\n",
       "      <td>11.100000</td>\n",
       "      <td>6.000000</td>\n",
       "    </tr>\n",
       "    <tr>\n",
       "      <th>max</th>\n",
       "      <td>15.900000</td>\n",
       "      <td>1.580000</td>\n",
       "      <td>1.000000</td>\n",
       "      <td>15.500000</td>\n",
       "      <td>0.611000</td>\n",
       "      <td>72.000000</td>\n",
       "      <td>289.000000</td>\n",
       "      <td>1.003690</td>\n",
       "      <td>4.010000</td>\n",
       "      <td>2.000000</td>\n",
       "      <td>14.900000</td>\n",
       "      <td>8.000000</td>\n",
       "    </tr>\n",
       "  </tbody>\n",
       "</table>\n",
       "</div>"
      ],
      "text/plain": [
       "       fixed acidity  volatile acidity  citric acid  residual sugar  \\\n",
       "count    1599.000000       1599.000000  1599.000000     1599.000000   \n",
       "mean        8.319637          0.527821     0.270976        2.538806   \n",
       "std         1.741096          0.179060     0.194801        1.409928   \n",
       "min         4.600000          0.120000     0.000000        0.900000   \n",
       "25%         7.100000          0.390000     0.090000        1.900000   \n",
       "50%         7.900000          0.520000     0.260000        2.200000   \n",
       "75%         9.200000          0.640000     0.420000        2.600000   \n",
       "max        15.900000          1.580000     1.000000       15.500000   \n",
       "\n",
       "         chlorides  free sulfur dioxide  total sulfur dioxide      density  \\\n",
       "count  1599.000000          1599.000000           1599.000000  1599.000000   \n",
       "mean      0.087467            15.874922             46.467792     0.996747   \n",
       "std       0.047065            10.460157             32.895324     0.001887   \n",
       "min       0.012000             1.000000              6.000000     0.990070   \n",
       "25%       0.070000             7.000000             22.000000     0.995600   \n",
       "50%       0.079000            14.000000             38.000000     0.996750   \n",
       "75%       0.090000            21.000000             62.000000     0.997835   \n",
       "max       0.611000            72.000000            289.000000     1.003690   \n",
       "\n",
       "                pH    sulphates      alcohol      quality  \n",
       "count  1599.000000  1599.000000  1599.000000  1599.000000  \n",
       "mean      3.311113     0.658149    10.422983     5.636023  \n",
       "std       0.154386     0.169507     1.065668     0.807569  \n",
       "min       2.740000     0.330000     8.400000     3.000000  \n",
       "25%       3.210000     0.550000     9.500000     5.000000  \n",
       "50%       3.310000     0.620000    10.200000     6.000000  \n",
       "75%       3.400000     0.730000    11.100000     6.000000  \n",
       "max       4.010000     2.000000    14.900000     8.000000  "
      ]
     },
     "execution_count": 49,
     "metadata": {},
     "output_type": "execute_result"
    }
   ],
   "source": [
    "#Getting the descriptive statistics of the all the numerical columns of a dataframe like Mean, Median, Std Deviation, Min, etc.\n",
    "data.describe()"
   ]
  },
  {
   "cell_type": "code",
   "execution_count": 6,
   "metadata": {},
   "outputs": [
    {
     "data": {
      "text/plain": [
       "Index(['fixed acidity', 'volatile acidity', 'citric acid', 'residual sugar',\n",
       "       'chlorides', 'free sulfur dioxide', 'total sulfur dioxide', 'density',\n",
       "       'pH', 'sulphates', 'alcohol', 'quality'],\n",
       "      dtype='object')"
      ]
     },
     "execution_count": 6,
     "metadata": {},
     "output_type": "execute_result"
    }
   ],
   "source": [
    "data.columns"
   ]
  },
  {
   "cell_type": "code",
   "execution_count": 3,
   "metadata": {},
   "outputs": [
    {
     "data": {
      "text/html": [
       "<style  type=\"text/css\" >\n",
       "    #T_42df1e5c_e9d8_11e8_b902_c49ded0e9327row0_col0 {\n",
       "            background-color:  #023858;\n",
       "        }    #T_42df1e5c_e9d8_11e8_b902_c49ded0e9327row0_col1 {\n",
       "            background-color:  #dedcec;\n",
       "        }    #T_42df1e5c_e9d8_11e8_b902_c49ded0e9327row0_col2 {\n",
       "            background-color:  #0569a5;\n",
       "        }    #T_42df1e5c_e9d8_11e8_b902_c49ded0e9327row0_col3 {\n",
       "            background-color:  #dfddec;\n",
       "        }    #T_42df1e5c_e9d8_11e8_b902_c49ded0e9327row0_col4 {\n",
       "            background-color:  #c5cce3;\n",
       "        }    #T_42df1e5c_e9d8_11e8_b902_c49ded0e9327row0_col5 {\n",
       "            background-color:  #fff7fb;\n",
       "        }    #T_42df1e5c_e9d8_11e8_b902_c49ded0e9327row0_col6 {\n",
       "            background-color:  #f4edf6;\n",
       "        }    #T_42df1e5c_e9d8_11e8_b902_c49ded0e9327row0_col7 {\n",
       "            background-color:  #056ba7;\n",
       "        }    #T_42df1e5c_e9d8_11e8_b902_c49ded0e9327row0_col8 {\n",
       "            background-color:  #fff7fb;\n",
       "        }    #T_42df1e5c_e9d8_11e8_b902_c49ded0e9327row0_col9 {\n",
       "            background-color:  #adc1dd;\n",
       "        }    #T_42df1e5c_e9d8_11e8_b902_c49ded0e9327row0_col10 {\n",
       "            background-color:  #c2cbe2;\n",
       "        }    #T_42df1e5c_e9d8_11e8_b902_c49ded0e9327row0_col11 {\n",
       "            background-color:  #a8bedc;\n",
       "        }    #T_42df1e5c_e9d8_11e8_b902_c49ded0e9327row1_col0 {\n",
       "            background-color:  #d0d1e6;\n",
       "        }    #T_42df1e5c_e9d8_11e8_b902_c49ded0e9327row1_col1 {\n",
       "            background-color:  #023858;\n",
       "        }    #T_42df1e5c_e9d8_11e8_b902_c49ded0e9327row1_col2 {\n",
       "            background-color:  #fff7fb;\n",
       "        }    #T_42df1e5c_e9d8_11e8_b902_c49ded0e9327row1_col3 {\n",
       "            background-color:  #f3edf5;\n",
       "        }    #T_42df1e5c_e9d8_11e8_b902_c49ded0e9327row1_col4 {\n",
       "            background-color:  #cdd0e5;\n",
       "        }    #T_42df1e5c_e9d8_11e8_b902_c49ded0e9327row1_col5 {\n",
       "            background-color:  #ede7f2;\n",
       "        }    #T_42df1e5c_e9d8_11e8_b902_c49ded0e9327row1_col6 {\n",
       "            background-color:  #d4d4e8;\n",
       "        }    #T_42df1e5c_e9d8_11e8_b902_c49ded0e9327row1_col7 {\n",
       "            background-color:  #b0c2de;\n",
       "        }    #T_42df1e5c_e9d8_11e8_b902_c49ded0e9327row1_col8 {\n",
       "            background-color:  #5ea0ca;\n",
       "        }    #T_42df1e5c_e9d8_11e8_b902_c49ded0e9327row1_col9 {\n",
       "            background-color:  #fff7fb;\n",
       "        }    #T_42df1e5c_e9d8_11e8_b902_c49ded0e9327row1_col10 {\n",
       "            background-color:  #dcdaeb;\n",
       "        }    #T_42df1e5c_e9d8_11e8_b902_c49ded0e9327row1_col11 {\n",
       "            background-color:  #fff7fb;\n",
       "        }    #T_42df1e5c_e9d8_11e8_b902_c49ded0e9327row2_col0 {\n",
       "            background-color:  #0566a0;\n",
       "        }    #T_42df1e5c_e9d8_11e8_b902_c49ded0e9327row2_col1 {\n",
       "            background-color:  #fff7fb;\n",
       "        }    #T_42df1e5c_e9d8_11e8_b902_c49ded0e9327row2_col2 {\n",
       "            background-color:  #023858;\n",
       "        }    #T_42df1e5c_e9d8_11e8_b902_c49ded0e9327row2_col3 {\n",
       "            background-color:  #d9d8ea;\n",
       "        }    #T_42df1e5c_e9d8_11e8_b902_c49ded0e9327row2_col4 {\n",
       "            background-color:  #a8bedc;\n",
       "        }    #T_42df1e5c_e9d8_11e8_b902_c49ded0e9327row2_col5 {\n",
       "            background-color:  #f3edf5;\n",
       "        }    #T_42df1e5c_e9d8_11e8_b902_c49ded0e9327row2_col6 {\n",
       "            background-color:  #dbdaeb;\n",
       "        }    #T_42df1e5c_e9d8_11e8_b902_c49ded0e9327row2_col7 {\n",
       "            background-color:  #4e9ac6;\n",
       "        }    #T_42df1e5c_e9d8_11e8_b902_c49ded0e9327row2_col8 {\n",
       "            background-color:  #f2ecf5;\n",
       "        }    #T_42df1e5c_e9d8_11e8_b902_c49ded0e9327row2_col9 {\n",
       "            background-color:  #86b0d3;\n",
       "        }    #T_42df1e5c_e9d8_11e8_b902_c49ded0e9327row2_col10 {\n",
       "            background-color:  #9ab8d8;\n",
       "        }    #T_42df1e5c_e9d8_11e8_b902_c49ded0e9327row2_col11 {\n",
       "            background-color:  #8bb2d4;\n",
       "        }    #T_42df1e5c_e9d8_11e8_b902_c49ded0e9327row3_col0 {\n",
       "            background-color:  #7eadd1;\n",
       "        }    #T_42df1e5c_e9d8_11e8_b902_c49ded0e9327row3_col1 {\n",
       "            background-color:  #acc0dd;\n",
       "        }    #T_42df1e5c_e9d8_11e8_b902_c49ded0e9327row3_col2 {\n",
       "            background-color:  #89b1d4;\n",
       "        }    #T_42df1e5c_e9d8_11e8_b902_c49ded0e9327row3_col3 {\n",
       "            background-color:  #023858;\n",
       "        }    #T_42df1e5c_e9d8_11e8_b902_c49ded0e9327row3_col4 {\n",
       "            background-color:  #d0d1e6;\n",
       "        }    #T_42df1e5c_e9d8_11e8_b902_c49ded0e9327row3_col5 {\n",
       "            background-color:  #c1cae2;\n",
       "        }    #T_42df1e5c_e9d8_11e8_b902_c49ded0e9327row3_col6 {\n",
       "            background-color:  #b3c3de;\n",
       "        }    #T_42df1e5c_e9d8_11e8_b902_c49ded0e9327row3_col7 {\n",
       "            background-color:  #529bc7;\n",
       "        }    #T_42df1e5c_e9d8_11e8_b902_c49ded0e9327row3_col8 {\n",
       "            background-color:  #adc1dd;\n",
       "        }    #T_42df1e5c_e9d8_11e8_b902_c49ded0e9327row3_col9 {\n",
       "            background-color:  #d9d8ea;\n",
       "        }    #T_42df1e5c_e9d8_11e8_b902_c49ded0e9327row3_col10 {\n",
       "            background-color:  #abbfdc;\n",
       "        }    #T_42df1e5c_e9d8_11e8_b902_c49ded0e9327row3_col11 {\n",
       "            background-color:  #c2cbe2;\n",
       "        }    #T_42df1e5c_e9d8_11e8_b902_c49ded0e9327row4_col0 {\n",
       "            background-color:  #83afd3;\n",
       "        }    #T_42df1e5c_e9d8_11e8_b902_c49ded0e9327row4_col1 {\n",
       "            background-color:  #9ebad9;\n",
       "        }    #T_42df1e5c_e9d8_11e8_b902_c49ded0e9327row4_col2 {\n",
       "            background-color:  #79abd0;\n",
       "        }    #T_42df1e5c_e9d8_11e8_b902_c49ded0e9327row4_col3 {\n",
       "            background-color:  #ebe6f2;\n",
       "        }    #T_42df1e5c_e9d8_11e8_b902_c49ded0e9327row4_col4 {\n",
       "            background-color:  #023858;\n",
       "        }    #T_42df1e5c_e9d8_11e8_b902_c49ded0e9327row4_col5 {\n",
       "            background-color:  #e9e5f1;\n",
       "        }    #T_42df1e5c_e9d8_11e8_b902_c49ded0e9327row4_col6 {\n",
       "            background-color:  #d9d8ea;\n",
       "        }    #T_42df1e5c_e9d8_11e8_b902_c49ded0e9327row4_col7 {\n",
       "            background-color:  #81aed2;\n",
       "        }    #T_42df1e5c_e9d8_11e8_b902_c49ded0e9327row4_col8 {\n",
       "            background-color:  #d1d2e6;\n",
       "        }    #T_42df1e5c_e9d8_11e8_b902_c49ded0e9327row4_col9 {\n",
       "            background-color:  #73a9cf;\n",
       "        }    #T_42df1e5c_e9d8_11e8_b902_c49ded0e9327row4_col10 {\n",
       "            background-color:  #dfddec;\n",
       "        }    #T_42df1e5c_e9d8_11e8_b902_c49ded0e9327row4_col11 {\n",
       "            background-color:  #dedcec;\n",
       "        }    #T_42df1e5c_e9d8_11e8_b902_c49ded0e9327row5_col0 {\n",
       "            background-color:  #bbc7e0;\n",
       "        }    #T_42df1e5c_e9d8_11e8_b902_c49ded0e9327row5_col1 {\n",
       "            background-color:  #afc1dd;\n",
       "        }    #T_42df1e5c_e9d8_11e8_b902_c49ded0e9327row5_col2 {\n",
       "            background-color:  #b9c6e0;\n",
       "        }    #T_42df1e5c_e9d8_11e8_b902_c49ded0e9327row5_col3 {\n",
       "            background-color:  #d0d1e6;\n",
       "        }    #T_42df1e5c_e9d8_11e8_b902_c49ded0e9327row5_col4 {\n",
       "            background-color:  #d9d8ea;\n",
       "        }    #T_42df1e5c_e9d8_11e8_b902_c49ded0e9327row5_col5 {\n",
       "            background-color:  #023858;\n",
       "        }    #T_42df1e5c_e9d8_11e8_b902_c49ded0e9327row5_col6 {\n",
       "            background-color:  #0f76b3;\n",
       "        }    #T_42df1e5c_e9d8_11e8_b902_c49ded0e9327row5_col7 {\n",
       "            background-color:  #b9c6e0;\n",
       "        }    #T_42df1e5c_e9d8_11e8_b902_c49ded0e9327row5_col8 {\n",
       "            background-color:  #89b1d4;\n",
       "        }    #T_42df1e5c_e9d8_11e8_b902_c49ded0e9327row5_col9 {\n",
       "            background-color:  #d1d2e6;\n",
       "        }    #T_42df1e5c_e9d8_11e8_b902_c49ded0e9327row5_col10 {\n",
       "            background-color:  #c4cbe3;\n",
       "        }    #T_42df1e5c_e9d8_11e8_b902_c49ded0e9327row5_col11 {\n",
       "            background-color:  #d2d2e7;\n",
       "        }    #T_42df1e5c_e9d8_11e8_b902_c49ded0e9327row6_col0 {\n",
       "            background-color:  #b3c3de;\n",
       "        }    #T_42df1e5c_e9d8_11e8_b902_c49ded0e9327row6_col1 {\n",
       "            background-color:  #9ab8d8;\n",
       "        }    #T_42df1e5c_e9d8_11e8_b902_c49ded0e9327row6_col2 {\n",
       "            background-color:  #a5bddb;\n",
       "        }    #T_42df1e5c_e9d8_11e8_b902_c49ded0e9327row6_col3 {\n",
       "            background-color:  #cacee5;\n",
       "        }    #T_42df1e5c_e9d8_11e8_b902_c49ded0e9327row6_col4 {\n",
       "            background-color:  #d1d2e6;\n",
       "        }    #T_42df1e5c_e9d8_11e8_b902_c49ded0e9327row6_col5 {\n",
       "            background-color:  #1379b5;\n",
       "        }    #T_42df1e5c_e9d8_11e8_b902_c49ded0e9327row6_col6 {\n",
       "            background-color:  #023858;\n",
       "        }    #T_42df1e5c_e9d8_11e8_b902_c49ded0e9327row6_col7 {\n",
       "            background-color:  #a4bcda;\n",
       "        }    #T_42df1e5c_e9d8_11e8_b902_c49ded0e9327row6_col8 {\n",
       "            background-color:  #a9bfdc;\n",
       "        }    #T_42df1e5c_e9d8_11e8_b902_c49ded0e9327row6_col9 {\n",
       "            background-color:  #d2d3e7;\n",
       "        }    #T_42df1e5c_e9d8_11e8_b902_c49ded0e9327row6_col10 {\n",
       "            background-color:  #dddbec;\n",
       "        }    #T_42df1e5c_e9d8_11e8_b902_c49ded0e9327row6_col11 {\n",
       "            background-color:  #e7e3f0;\n",
       "        }    #T_42df1e5c_e9d8_11e8_b902_c49ded0e9327row7_col0 {\n",
       "            background-color:  #0567a1;\n",
       "        }    #T_42df1e5c_e9d8_11e8_b902_c49ded0e9327row7_col1 {\n",
       "            background-color:  #a8bedc;\n",
       "        }    #T_42df1e5c_e9d8_11e8_b902_c49ded0e9327row7_col2 {\n",
       "            background-color:  #4697c4;\n",
       "        }    #T_42df1e5c_e9d8_11e8_b902_c49ded0e9327row7_col3 {\n",
       "            background-color:  #9ab8d8;\n",
       "        }    #T_42df1e5c_e9d8_11e8_b902_c49ded0e9327row7_col4 {\n",
       "            background-color:  #a8bedc;\n",
       "        }    #T_42df1e5c_e9d8_11e8_b902_c49ded0e9327row7_col5 {\n",
       "            background-color:  #eee8f3;\n",
       "        }    #T_42df1e5c_e9d8_11e8_b902_c49ded0e9327row7_col6 {\n",
       "            background-color:  #d5d5e8;\n",
       "        }    #T_42df1e5c_e9d8_11e8_b902_c49ded0e9327row7_col7 {\n",
       "            background-color:  #023858;\n",
       "        }    #T_42df1e5c_e9d8_11e8_b902_c49ded0e9327row7_col8 {\n",
       "            background-color:  #dbdaeb;\n",
       "        }    #T_42df1e5c_e9d8_11e8_b902_c49ded0e9327row7_col9 {\n",
       "            background-color:  #b7c5df;\n",
       "        }    #T_42df1e5c_e9d8_11e8_b902_c49ded0e9327row7_col10 {\n",
       "            background-color:  #fff7fb;\n",
       "        }    #T_42df1e5c_e9d8_11e8_b902_c49ded0e9327row7_col11 {\n",
       "            background-color:  #e6e2ef;\n",
       "        }    #T_42df1e5c_e9d8_11e8_b902_c49ded0e9327row8_col0 {\n",
       "            background-color:  #fff7fb;\n",
       "        }    #T_42df1e5c_e9d8_11e8_b902_c49ded0e9327row8_col1 {\n",
       "            background-color:  #71a8ce;\n",
       "        }    #T_42df1e5c_e9d8_11e8_b902_c49ded0e9327row8_col2 {\n",
       "            background-color:  #fef6fb;\n",
       "        }    #T_42df1e5c_e9d8_11e8_b902_c49ded0e9327row8_col3 {\n",
       "            background-color:  #fff7fb;\n",
       "        }    #T_42df1e5c_e9d8_11e8_b902_c49ded0e9327row8_col4 {\n",
       "            background-color:  #fff7fb;\n",
       "        }    #T_42df1e5c_e9d8_11e8_b902_c49ded0e9327row8_col5 {\n",
       "            background-color:  #dddbec;\n",
       "        }    #T_42df1e5c_e9d8_11e8_b902_c49ded0e9327row8_col6 {\n",
       "            background-color:  #eee8f3;\n",
       "        }    #T_42df1e5c_e9d8_11e8_b902_c49ded0e9327row8_col7 {\n",
       "            background-color:  #f0eaf4;\n",
       "        }    #T_42df1e5c_e9d8_11e8_b902_c49ded0e9327row8_col8 {\n",
       "            background-color:  #023858;\n",
       "        }    #T_42df1e5c_e9d8_11e8_b902_c49ded0e9327row8_col9 {\n",
       "            background-color:  #f7f0f7;\n",
       "        }    #T_42df1e5c_e9d8_11e8_b902_c49ded0e9327row8_col10 {\n",
       "            background-color:  #80aed2;\n",
       "        }    #T_42df1e5c_e9d8_11e8_b902_c49ded0e9327row8_col11 {\n",
       "            background-color:  #d2d3e7;\n",
       "        }    #T_42df1e5c_e9d8_11e8_b902_c49ded0e9327row9_col0 {\n",
       "            background-color:  #6da6cd;\n",
       "        }    #T_42df1e5c_e9d8_11e8_b902_c49ded0e9327row9_col1 {\n",
       "            background-color:  #dedcec;\n",
       "        }    #T_42df1e5c_e9d8_11e8_b902_c49ded0e9327row9_col2 {\n",
       "            background-color:  #589ec8;\n",
       "        }    #T_42df1e5c_e9d8_11e8_b902_c49ded0e9327row9_col3 {\n",
       "            background-color:  #f2ecf5;\n",
       "        }    #T_42df1e5c_e9d8_11e8_b902_c49ded0e9327row9_col4 {\n",
       "            background-color:  #73a9cf;\n",
       "        }    #T_42df1e5c_e9d8_11e8_b902_c49ded0e9327row9_col5 {\n",
       "            background-color:  #e0deed;\n",
       "        }    #T_42df1e5c_e9d8_11e8_b902_c49ded0e9327row9_col6 {\n",
       "            background-color:  #dad9ea;\n",
       "        }    #T_42df1e5c_e9d8_11e8_b902_c49ded0e9327row9_col7 {\n",
       "            background-color:  #8fb4d6;\n",
       "        }    #T_42df1e5c_e9d8_11e8_b902_c49ded0e9327row9_col8 {\n",
       "            background-color:  #c4cbe3;\n",
       "        }    #T_42df1e5c_e9d8_11e8_b902_c49ded0e9327row9_col9 {\n",
       "            background-color:  #023858;\n",
       "        }    #T_42df1e5c_e9d8_11e8_b902_c49ded0e9327row9_col10 {\n",
       "            background-color:  #9fbad9;\n",
       "        }    #T_42df1e5c_e9d8_11e8_b902_c49ded0e9327row9_col11 {\n",
       "            background-color:  #83afd3;\n",
       "        }    #T_42df1e5c_e9d8_11e8_b902_c49ded0e9327row10_col0 {\n",
       "            background-color:  #a8bedc;\n",
       "        }    #T_42df1e5c_e9d8_11e8_b902_c49ded0e9327row10_col1 {\n",
       "            background-color:  #d6d6e9;\n",
       "        }    #T_42df1e5c_e9d8_11e8_b902_c49ded0e9327row10_col2 {\n",
       "            background-color:  #91b5d6;\n",
       "        }    #T_42df1e5c_e9d8_11e8_b902_c49ded0e9327row10_col3 {\n",
       "            background-color:  #ede8f3;\n",
       "        }    #T_42df1e5c_e9d8_11e8_b902_c49ded0e9327row10_col4 {\n",
       "            background-color:  #faf3f9;\n",
       "        }    #T_42df1e5c_e9d8_11e8_b902_c49ded0e9327row10_col5 {\n",
       "            background-color:  #f4eef6;\n",
       "        }    #T_42df1e5c_e9d8_11e8_b902_c49ded0e9327row10_col6 {\n",
       "            background-color:  #fff7fb;\n",
       "        }    #T_42df1e5c_e9d8_11e8_b902_c49ded0e9327row10_col7 {\n",
       "            background-color:  #fff7fb;\n",
       "        }    #T_42df1e5c_e9d8_11e8_b902_c49ded0e9327row10_col8 {\n",
       "            background-color:  #65a3cb;\n",
       "        }    #T_42df1e5c_e9d8_11e8_b902_c49ded0e9327row10_col9 {\n",
       "            background-color:  #c6cce3;\n",
       "        }    #T_42df1e5c_e9d8_11e8_b902_c49ded0e9327row10_col10 {\n",
       "            background-color:  #023858;\n",
       "        }    #T_42df1e5c_e9d8_11e8_b902_c49ded0e9327row10_col11 {\n",
       "            background-color:  #3790c0;\n",
       "        }    #T_42df1e5c_e9d8_11e8_b902_c49ded0e9327row11_col0 {\n",
       "            background-color:  #7dacd1;\n",
       "        }    #T_42df1e5c_e9d8_11e8_b902_c49ded0e9327row11_col1 {\n",
       "            background-color:  #f0eaf4;\n",
       "        }    #T_42df1e5c_e9d8_11e8_b902_c49ded0e9327row11_col2 {\n",
       "            background-color:  #73a9cf;\n",
       "        }    #T_42df1e5c_e9d8_11e8_b902_c49ded0e9327row11_col3 {\n",
       "            background-color:  #f1ebf5;\n",
       "        }    #T_42df1e5c_e9d8_11e8_b902_c49ded0e9327row11_col4 {\n",
       "            background-color:  #efe9f3;\n",
       "        }    #T_42df1e5c_e9d8_11e8_b902_c49ded0e9327row11_col5 {\n",
       "            background-color:  #f2ecf5;\n",
       "        }    #T_42df1e5c_e9d8_11e8_b902_c49ded0e9327row11_col6 {\n",
       "            background-color:  #fdf5fa;\n",
       "        }    #T_42df1e5c_e9d8_11e8_b902_c49ded0e9327row11_col7 {\n",
       "            background-color:  #d9d8ea;\n",
       "        }    #T_42df1e5c_e9d8_11e8_b902_c49ded0e9327row11_col8 {\n",
       "            background-color:  #a7bddb;\n",
       "        }    #T_42df1e5c_e9d8_11e8_b902_c49ded0e9327row11_col9 {\n",
       "            background-color:  #99b8d8;\n",
       "        }    #T_42df1e5c_e9d8_11e8_b902_c49ded0e9327row11_col10 {\n",
       "            background-color:  #2c89bd;\n",
       "        }    #T_42df1e5c_e9d8_11e8_b902_c49ded0e9327row11_col11 {\n",
       "            background-color:  #023858;\n",
       "        }</style>  \n",
       "<table id=\"T_42df1e5c_e9d8_11e8_b902_c49ded0e9327\" > \n",
       "<thead>    <tr> \n",
       "        <th class=\"blank level0\" ></th> \n",
       "        <th class=\"col_heading level0 col0\" >fixed acidity</th> \n",
       "        <th class=\"col_heading level0 col1\" >volatile acidity</th> \n",
       "        <th class=\"col_heading level0 col2\" >citric acid</th> \n",
       "        <th class=\"col_heading level0 col3\" >residual sugar</th> \n",
       "        <th class=\"col_heading level0 col4\" >chlorides</th> \n",
       "        <th class=\"col_heading level0 col5\" >free sulfur dioxide</th> \n",
       "        <th class=\"col_heading level0 col6\" >total sulfur dioxide</th> \n",
       "        <th class=\"col_heading level0 col7\" >density</th> \n",
       "        <th class=\"col_heading level0 col8\" >pH</th> \n",
       "        <th class=\"col_heading level0 col9\" >sulphates</th> \n",
       "        <th class=\"col_heading level0 col10\" >alcohol</th> \n",
       "        <th class=\"col_heading level0 col11\" >quality</th> \n",
       "    </tr></thead> \n",
       "<tbody>    <tr> \n",
       "        <th id=\"T_42df1e5c_e9d8_11e8_b902_c49ded0e9327level0_row0\" class=\"row_heading level0 row0\" >fixed acidity</th> \n",
       "        <td id=\"T_42df1e5c_e9d8_11e8_b902_c49ded0e9327row0_col0\" class=\"data row0 col0\" >1</td> \n",
       "        <td id=\"T_42df1e5c_e9d8_11e8_b902_c49ded0e9327row0_col1\" class=\"data row0 col1\" >-0.26</td> \n",
       "        <td id=\"T_42df1e5c_e9d8_11e8_b902_c49ded0e9327row0_col2\" class=\"data row0 col2\" >0.67</td> \n",
       "        <td id=\"T_42df1e5c_e9d8_11e8_b902_c49ded0e9327row0_col3\" class=\"data row0 col3\" >0.11</td> \n",
       "        <td id=\"T_42df1e5c_e9d8_11e8_b902_c49ded0e9327row0_col4\" class=\"data row0 col4\" >0.094</td> \n",
       "        <td id=\"T_42df1e5c_e9d8_11e8_b902_c49ded0e9327row0_col5\" class=\"data row0 col5\" >-0.15</td> \n",
       "        <td id=\"T_42df1e5c_e9d8_11e8_b902_c49ded0e9327row0_col6\" class=\"data row0 col6\" >-0.11</td> \n",
       "        <td id=\"T_42df1e5c_e9d8_11e8_b902_c49ded0e9327row0_col7\" class=\"data row0 col7\" >0.67</td> \n",
       "        <td id=\"T_42df1e5c_e9d8_11e8_b902_c49ded0e9327row0_col8\" class=\"data row0 col8\" >-0.68</td> \n",
       "        <td id=\"T_42df1e5c_e9d8_11e8_b902_c49ded0e9327row0_col9\" class=\"data row0 col9\" >0.18</td> \n",
       "        <td id=\"T_42df1e5c_e9d8_11e8_b902_c49ded0e9327row0_col10\" class=\"data row0 col10\" >-0.062</td> \n",
       "        <td id=\"T_42df1e5c_e9d8_11e8_b902_c49ded0e9327row0_col11\" class=\"data row0 col11\" >0.12</td> \n",
       "    </tr>    <tr> \n",
       "        <th id=\"T_42df1e5c_e9d8_11e8_b902_c49ded0e9327level0_row1\" class=\"row_heading level0 row1\" >volatile acidity</th> \n",
       "        <td id=\"T_42df1e5c_e9d8_11e8_b902_c49ded0e9327row1_col0\" class=\"data row1 col0\" >-0.26</td> \n",
       "        <td id=\"T_42df1e5c_e9d8_11e8_b902_c49ded0e9327row1_col1\" class=\"data row1 col1\" >1</td> \n",
       "        <td id=\"T_42df1e5c_e9d8_11e8_b902_c49ded0e9327row1_col2\" class=\"data row1 col2\" >-0.55</td> \n",
       "        <td id=\"T_42df1e5c_e9d8_11e8_b902_c49ded0e9327row1_col3\" class=\"data row1 col3\" >0.0019</td> \n",
       "        <td id=\"T_42df1e5c_e9d8_11e8_b902_c49ded0e9327row1_col4\" class=\"data row1 col4\" >0.061</td> \n",
       "        <td id=\"T_42df1e5c_e9d8_11e8_b902_c49ded0e9327row1_col5\" class=\"data row1 col5\" >-0.011</td> \n",
       "        <td id=\"T_42df1e5c_e9d8_11e8_b902_c49ded0e9327row1_col6\" class=\"data row1 col6\" >0.076</td> \n",
       "        <td id=\"T_42df1e5c_e9d8_11e8_b902_c49ded0e9327row1_col7\" class=\"data row1 col7\" >0.022</td> \n",
       "        <td id=\"T_42df1e5c_e9d8_11e8_b902_c49ded0e9327row1_col8\" class=\"data row1 col8\" >0.23</td> \n",
       "        <td id=\"T_42df1e5c_e9d8_11e8_b902_c49ded0e9327row1_col9\" class=\"data row1 col9\" >-0.26</td> \n",
       "        <td id=\"T_42df1e5c_e9d8_11e8_b902_c49ded0e9327row1_col10\" class=\"data row1 col10\" >-0.2</td> \n",
       "        <td id=\"T_42df1e5c_e9d8_11e8_b902_c49ded0e9327row1_col11\" class=\"data row1 col11\" >-0.39</td> \n",
       "    </tr>    <tr> \n",
       "        <th id=\"T_42df1e5c_e9d8_11e8_b902_c49ded0e9327level0_row2\" class=\"row_heading level0 row2\" >citric acid</th> \n",
       "        <td id=\"T_42df1e5c_e9d8_11e8_b902_c49ded0e9327row2_col0\" class=\"data row2 col0\" >0.67</td> \n",
       "        <td id=\"T_42df1e5c_e9d8_11e8_b902_c49ded0e9327row2_col1\" class=\"data row2 col1\" >-0.55</td> \n",
       "        <td id=\"T_42df1e5c_e9d8_11e8_b902_c49ded0e9327row2_col2\" class=\"data row2 col2\" >1</td> \n",
       "        <td id=\"T_42df1e5c_e9d8_11e8_b902_c49ded0e9327row2_col3\" class=\"data row2 col3\" >0.14</td> \n",
       "        <td id=\"T_42df1e5c_e9d8_11e8_b902_c49ded0e9327row2_col4\" class=\"data row2 col4\" >0.2</td> \n",
       "        <td id=\"T_42df1e5c_e9d8_11e8_b902_c49ded0e9327row2_col5\" class=\"data row2 col5\" >-0.061</td> \n",
       "        <td id=\"T_42df1e5c_e9d8_11e8_b902_c49ded0e9327row2_col6\" class=\"data row2 col6\" >0.036</td> \n",
       "        <td id=\"T_42df1e5c_e9d8_11e8_b902_c49ded0e9327row2_col7\" class=\"data row2 col7\" >0.36</td> \n",
       "        <td id=\"T_42df1e5c_e9d8_11e8_b902_c49ded0e9327row2_col8\" class=\"data row2 col8\" >-0.54</td> \n",
       "        <td id=\"T_42df1e5c_e9d8_11e8_b902_c49ded0e9327row2_col9\" class=\"data row2 col9\" >0.31</td> \n",
       "        <td id=\"T_42df1e5c_e9d8_11e8_b902_c49ded0e9327row2_col10\" class=\"data row2 col10\" >0.11</td> \n",
       "        <td id=\"T_42df1e5c_e9d8_11e8_b902_c49ded0e9327row2_col11\" class=\"data row2 col11\" >0.23</td> \n",
       "    </tr>    <tr> \n",
       "        <th id=\"T_42df1e5c_e9d8_11e8_b902_c49ded0e9327level0_row3\" class=\"row_heading level0 row3\" >residual sugar</th> \n",
       "        <td id=\"T_42df1e5c_e9d8_11e8_b902_c49ded0e9327row3_col0\" class=\"data row3 col0\" >0.11</td> \n",
       "        <td id=\"T_42df1e5c_e9d8_11e8_b902_c49ded0e9327row3_col1\" class=\"data row3 col1\" >0.0019</td> \n",
       "        <td id=\"T_42df1e5c_e9d8_11e8_b902_c49ded0e9327row3_col2\" class=\"data row3 col2\" >0.14</td> \n",
       "        <td id=\"T_42df1e5c_e9d8_11e8_b902_c49ded0e9327row3_col3\" class=\"data row3 col3\" >1</td> \n",
       "        <td id=\"T_42df1e5c_e9d8_11e8_b902_c49ded0e9327row3_col4\" class=\"data row3 col4\" >0.056</td> \n",
       "        <td id=\"T_42df1e5c_e9d8_11e8_b902_c49ded0e9327row3_col5\" class=\"data row3 col5\" >0.19</td> \n",
       "        <td id=\"T_42df1e5c_e9d8_11e8_b902_c49ded0e9327row3_col6\" class=\"data row3 col6\" >0.2</td> \n",
       "        <td id=\"T_42df1e5c_e9d8_11e8_b902_c49ded0e9327row3_col7\" class=\"data row3 col7\" >0.36</td> \n",
       "        <td id=\"T_42df1e5c_e9d8_11e8_b902_c49ded0e9327row3_col8\" class=\"data row3 col8\" >-0.086</td> \n",
       "        <td id=\"T_42df1e5c_e9d8_11e8_b902_c49ded0e9327row3_col9\" class=\"data row3 col9\" >0.0055</td> \n",
       "        <td id=\"T_42df1e5c_e9d8_11e8_b902_c49ded0e9327row3_col10\" class=\"data row3 col10\" >0.042</td> \n",
       "        <td id=\"T_42df1e5c_e9d8_11e8_b902_c49ded0e9327row3_col11\" class=\"data row3 col11\" >0.014</td> \n",
       "    </tr>    <tr> \n",
       "        <th id=\"T_42df1e5c_e9d8_11e8_b902_c49ded0e9327level0_row4\" class=\"row_heading level0 row4\" >chlorides</th> \n",
       "        <td id=\"T_42df1e5c_e9d8_11e8_b902_c49ded0e9327row4_col0\" class=\"data row4 col0\" >0.094</td> \n",
       "        <td id=\"T_42df1e5c_e9d8_11e8_b902_c49ded0e9327row4_col1\" class=\"data row4 col1\" >0.061</td> \n",
       "        <td id=\"T_42df1e5c_e9d8_11e8_b902_c49ded0e9327row4_col2\" class=\"data row4 col2\" >0.2</td> \n",
       "        <td id=\"T_42df1e5c_e9d8_11e8_b902_c49ded0e9327row4_col3\" class=\"data row4 col3\" >0.056</td> \n",
       "        <td id=\"T_42df1e5c_e9d8_11e8_b902_c49ded0e9327row4_col4\" class=\"data row4 col4\" >1</td> \n",
       "        <td id=\"T_42df1e5c_e9d8_11e8_b902_c49ded0e9327row4_col5\" class=\"data row4 col5\" >0.0056</td> \n",
       "        <td id=\"T_42df1e5c_e9d8_11e8_b902_c49ded0e9327row4_col6\" class=\"data row4 col6\" >0.047</td> \n",
       "        <td id=\"T_42df1e5c_e9d8_11e8_b902_c49ded0e9327row4_col7\" class=\"data row4 col7\" >0.2</td> \n",
       "        <td id=\"T_42df1e5c_e9d8_11e8_b902_c49ded0e9327row4_col8\" class=\"data row4 col8\" >-0.27</td> \n",
       "        <td id=\"T_42df1e5c_e9d8_11e8_b902_c49ded0e9327row4_col9\" class=\"data row4 col9\" >0.37</td> \n",
       "        <td id=\"T_42df1e5c_e9d8_11e8_b902_c49ded0e9327row4_col10\" class=\"data row4 col10\" >-0.22</td> \n",
       "        <td id=\"T_42df1e5c_e9d8_11e8_b902_c49ded0e9327row4_col11\" class=\"data row4 col11\" >-0.13</td> \n",
       "    </tr>    <tr> \n",
       "        <th id=\"T_42df1e5c_e9d8_11e8_b902_c49ded0e9327level0_row5\" class=\"row_heading level0 row5\" >free sulfur dioxide</th> \n",
       "        <td id=\"T_42df1e5c_e9d8_11e8_b902_c49ded0e9327row5_col0\" class=\"data row5 col0\" >-0.15</td> \n",
       "        <td id=\"T_42df1e5c_e9d8_11e8_b902_c49ded0e9327row5_col1\" class=\"data row5 col1\" >-0.011</td> \n",
       "        <td id=\"T_42df1e5c_e9d8_11e8_b902_c49ded0e9327row5_col2\" class=\"data row5 col2\" >-0.061</td> \n",
       "        <td id=\"T_42df1e5c_e9d8_11e8_b902_c49ded0e9327row5_col3\" class=\"data row5 col3\" >0.19</td> \n",
       "        <td id=\"T_42df1e5c_e9d8_11e8_b902_c49ded0e9327row5_col4\" class=\"data row5 col4\" >0.0056</td> \n",
       "        <td id=\"T_42df1e5c_e9d8_11e8_b902_c49ded0e9327row5_col5\" class=\"data row5 col5\" >1</td> \n",
       "        <td id=\"T_42df1e5c_e9d8_11e8_b902_c49ded0e9327row5_col6\" class=\"data row5 col6\" >0.67</td> \n",
       "        <td id=\"T_42df1e5c_e9d8_11e8_b902_c49ded0e9327row5_col7\" class=\"data row5 col7\" >-0.022</td> \n",
       "        <td id=\"T_42df1e5c_e9d8_11e8_b902_c49ded0e9327row5_col8\" class=\"data row5 col8\" >0.07</td> \n",
       "        <td id=\"T_42df1e5c_e9d8_11e8_b902_c49ded0e9327row5_col9\" class=\"data row5 col9\" >0.052</td> \n",
       "        <td id=\"T_42df1e5c_e9d8_11e8_b902_c49ded0e9327row5_col10\" class=\"data row5 col10\" >-0.069</td> \n",
       "        <td id=\"T_42df1e5c_e9d8_11e8_b902_c49ded0e9327row5_col11\" class=\"data row5 col11\" >-0.051</td> \n",
       "    </tr>    <tr> \n",
       "        <th id=\"T_42df1e5c_e9d8_11e8_b902_c49ded0e9327level0_row6\" class=\"row_heading level0 row6\" >total sulfur dioxide</th> \n",
       "        <td id=\"T_42df1e5c_e9d8_11e8_b902_c49ded0e9327row6_col0\" class=\"data row6 col0\" >-0.11</td> \n",
       "        <td id=\"T_42df1e5c_e9d8_11e8_b902_c49ded0e9327row6_col1\" class=\"data row6 col1\" >0.076</td> \n",
       "        <td id=\"T_42df1e5c_e9d8_11e8_b902_c49ded0e9327row6_col2\" class=\"data row6 col2\" >0.036</td> \n",
       "        <td id=\"T_42df1e5c_e9d8_11e8_b902_c49ded0e9327row6_col3\" class=\"data row6 col3\" >0.2</td> \n",
       "        <td id=\"T_42df1e5c_e9d8_11e8_b902_c49ded0e9327row6_col4\" class=\"data row6 col4\" >0.047</td> \n",
       "        <td id=\"T_42df1e5c_e9d8_11e8_b902_c49ded0e9327row6_col5\" class=\"data row6 col5\" >0.67</td> \n",
       "        <td id=\"T_42df1e5c_e9d8_11e8_b902_c49ded0e9327row6_col6\" class=\"data row6 col6\" >1</td> \n",
       "        <td id=\"T_42df1e5c_e9d8_11e8_b902_c49ded0e9327row6_col7\" class=\"data row6 col7\" >0.071</td> \n",
       "        <td id=\"T_42df1e5c_e9d8_11e8_b902_c49ded0e9327row6_col8\" class=\"data row6 col8\" >-0.066</td> \n",
       "        <td id=\"T_42df1e5c_e9d8_11e8_b902_c49ded0e9327row6_col9\" class=\"data row6 col9\" >0.043</td> \n",
       "        <td id=\"T_42df1e5c_e9d8_11e8_b902_c49ded0e9327row6_col10\" class=\"data row6 col10\" >-0.21</td> \n",
       "        <td id=\"T_42df1e5c_e9d8_11e8_b902_c49ded0e9327row6_col11\" class=\"data row6 col11\" >-0.19</td> \n",
       "    </tr>    <tr> \n",
       "        <th id=\"T_42df1e5c_e9d8_11e8_b902_c49ded0e9327level0_row7\" class=\"row_heading level0 row7\" >density</th> \n",
       "        <td id=\"T_42df1e5c_e9d8_11e8_b902_c49ded0e9327row7_col0\" class=\"data row7 col0\" >0.67</td> \n",
       "        <td id=\"T_42df1e5c_e9d8_11e8_b902_c49ded0e9327row7_col1\" class=\"data row7 col1\" >0.022</td> \n",
       "        <td id=\"T_42df1e5c_e9d8_11e8_b902_c49ded0e9327row7_col2\" class=\"data row7 col2\" >0.36</td> \n",
       "        <td id=\"T_42df1e5c_e9d8_11e8_b902_c49ded0e9327row7_col3\" class=\"data row7 col3\" >0.36</td> \n",
       "        <td id=\"T_42df1e5c_e9d8_11e8_b902_c49ded0e9327row7_col4\" class=\"data row7 col4\" >0.2</td> \n",
       "        <td id=\"T_42df1e5c_e9d8_11e8_b902_c49ded0e9327row7_col5\" class=\"data row7 col5\" >-0.022</td> \n",
       "        <td id=\"T_42df1e5c_e9d8_11e8_b902_c49ded0e9327row7_col6\" class=\"data row7 col6\" >0.071</td> \n",
       "        <td id=\"T_42df1e5c_e9d8_11e8_b902_c49ded0e9327row7_col7\" class=\"data row7 col7\" >1</td> \n",
       "        <td id=\"T_42df1e5c_e9d8_11e8_b902_c49ded0e9327row7_col8\" class=\"data row7 col8\" >-0.34</td> \n",
       "        <td id=\"T_42df1e5c_e9d8_11e8_b902_c49ded0e9327row7_col9\" class=\"data row7 col9\" >0.15</td> \n",
       "        <td id=\"T_42df1e5c_e9d8_11e8_b902_c49ded0e9327row7_col10\" class=\"data row7 col10\" >-0.5</td> \n",
       "        <td id=\"T_42df1e5c_e9d8_11e8_b902_c49ded0e9327row7_col11\" class=\"data row7 col11\" >-0.17</td> \n",
       "    </tr>    <tr> \n",
       "        <th id=\"T_42df1e5c_e9d8_11e8_b902_c49ded0e9327level0_row8\" class=\"row_heading level0 row8\" >pH</th> \n",
       "        <td id=\"T_42df1e5c_e9d8_11e8_b902_c49ded0e9327row8_col0\" class=\"data row8 col0\" >-0.68</td> \n",
       "        <td id=\"T_42df1e5c_e9d8_11e8_b902_c49ded0e9327row8_col1\" class=\"data row8 col1\" >0.23</td> \n",
       "        <td id=\"T_42df1e5c_e9d8_11e8_b902_c49ded0e9327row8_col2\" class=\"data row8 col2\" >-0.54</td> \n",
       "        <td id=\"T_42df1e5c_e9d8_11e8_b902_c49ded0e9327row8_col3\" class=\"data row8 col3\" >-0.086</td> \n",
       "        <td id=\"T_42df1e5c_e9d8_11e8_b902_c49ded0e9327row8_col4\" class=\"data row8 col4\" >-0.27</td> \n",
       "        <td id=\"T_42df1e5c_e9d8_11e8_b902_c49ded0e9327row8_col5\" class=\"data row8 col5\" >0.07</td> \n",
       "        <td id=\"T_42df1e5c_e9d8_11e8_b902_c49ded0e9327row8_col6\" class=\"data row8 col6\" >-0.066</td> \n",
       "        <td id=\"T_42df1e5c_e9d8_11e8_b902_c49ded0e9327row8_col7\" class=\"data row8 col7\" >-0.34</td> \n",
       "        <td id=\"T_42df1e5c_e9d8_11e8_b902_c49ded0e9327row8_col8\" class=\"data row8 col8\" >1</td> \n",
       "        <td id=\"T_42df1e5c_e9d8_11e8_b902_c49ded0e9327row8_col9\" class=\"data row8 col9\" >-0.2</td> \n",
       "        <td id=\"T_42df1e5c_e9d8_11e8_b902_c49ded0e9327row8_col10\" class=\"data row8 col10\" >0.21</td> \n",
       "        <td id=\"T_42df1e5c_e9d8_11e8_b902_c49ded0e9327row8_col11\" class=\"data row8 col11\" >-0.058</td> \n",
       "    </tr>    <tr> \n",
       "        <th id=\"T_42df1e5c_e9d8_11e8_b902_c49ded0e9327level0_row9\" class=\"row_heading level0 row9\" >sulphates</th> \n",
       "        <td id=\"T_42df1e5c_e9d8_11e8_b902_c49ded0e9327row9_col0\" class=\"data row9 col0\" >0.18</td> \n",
       "        <td id=\"T_42df1e5c_e9d8_11e8_b902_c49ded0e9327row9_col1\" class=\"data row9 col1\" >-0.26</td> \n",
       "        <td id=\"T_42df1e5c_e9d8_11e8_b902_c49ded0e9327row9_col2\" class=\"data row9 col2\" >0.31</td> \n",
       "        <td id=\"T_42df1e5c_e9d8_11e8_b902_c49ded0e9327row9_col3\" class=\"data row9 col3\" >0.0055</td> \n",
       "        <td id=\"T_42df1e5c_e9d8_11e8_b902_c49ded0e9327row9_col4\" class=\"data row9 col4\" >0.37</td> \n",
       "        <td id=\"T_42df1e5c_e9d8_11e8_b902_c49ded0e9327row9_col5\" class=\"data row9 col5\" >0.052</td> \n",
       "        <td id=\"T_42df1e5c_e9d8_11e8_b902_c49ded0e9327row9_col6\" class=\"data row9 col6\" >0.043</td> \n",
       "        <td id=\"T_42df1e5c_e9d8_11e8_b902_c49ded0e9327row9_col7\" class=\"data row9 col7\" >0.15</td> \n",
       "        <td id=\"T_42df1e5c_e9d8_11e8_b902_c49ded0e9327row9_col8\" class=\"data row9 col8\" >-0.2</td> \n",
       "        <td id=\"T_42df1e5c_e9d8_11e8_b902_c49ded0e9327row9_col9\" class=\"data row9 col9\" >1</td> \n",
       "        <td id=\"T_42df1e5c_e9d8_11e8_b902_c49ded0e9327row9_col10\" class=\"data row9 col10\" >0.094</td> \n",
       "        <td id=\"T_42df1e5c_e9d8_11e8_b902_c49ded0e9327row9_col11\" class=\"data row9 col11\" >0.25</td> \n",
       "    </tr>    <tr> \n",
       "        <th id=\"T_42df1e5c_e9d8_11e8_b902_c49ded0e9327level0_row10\" class=\"row_heading level0 row10\" >alcohol</th> \n",
       "        <td id=\"T_42df1e5c_e9d8_11e8_b902_c49ded0e9327row10_col0\" class=\"data row10 col0\" >-0.062</td> \n",
       "        <td id=\"T_42df1e5c_e9d8_11e8_b902_c49ded0e9327row10_col1\" class=\"data row10 col1\" >-0.2</td> \n",
       "        <td id=\"T_42df1e5c_e9d8_11e8_b902_c49ded0e9327row10_col2\" class=\"data row10 col2\" >0.11</td> \n",
       "        <td id=\"T_42df1e5c_e9d8_11e8_b902_c49ded0e9327row10_col3\" class=\"data row10 col3\" >0.042</td> \n",
       "        <td id=\"T_42df1e5c_e9d8_11e8_b902_c49ded0e9327row10_col4\" class=\"data row10 col4\" >-0.22</td> \n",
       "        <td id=\"T_42df1e5c_e9d8_11e8_b902_c49ded0e9327row10_col5\" class=\"data row10 col5\" >-0.069</td> \n",
       "        <td id=\"T_42df1e5c_e9d8_11e8_b902_c49ded0e9327row10_col6\" class=\"data row10 col6\" >-0.21</td> \n",
       "        <td id=\"T_42df1e5c_e9d8_11e8_b902_c49ded0e9327row10_col7\" class=\"data row10 col7\" >-0.5</td> \n",
       "        <td id=\"T_42df1e5c_e9d8_11e8_b902_c49ded0e9327row10_col8\" class=\"data row10 col8\" >0.21</td> \n",
       "        <td id=\"T_42df1e5c_e9d8_11e8_b902_c49ded0e9327row10_col9\" class=\"data row10 col9\" >0.094</td> \n",
       "        <td id=\"T_42df1e5c_e9d8_11e8_b902_c49ded0e9327row10_col10\" class=\"data row10 col10\" >1</td> \n",
       "        <td id=\"T_42df1e5c_e9d8_11e8_b902_c49ded0e9327row10_col11\" class=\"data row10 col11\" >0.48</td> \n",
       "    </tr>    <tr> \n",
       "        <th id=\"T_42df1e5c_e9d8_11e8_b902_c49ded0e9327level0_row11\" class=\"row_heading level0 row11\" >quality</th> \n",
       "        <td id=\"T_42df1e5c_e9d8_11e8_b902_c49ded0e9327row11_col0\" class=\"data row11 col0\" >0.12</td> \n",
       "        <td id=\"T_42df1e5c_e9d8_11e8_b902_c49ded0e9327row11_col1\" class=\"data row11 col1\" >-0.39</td> \n",
       "        <td id=\"T_42df1e5c_e9d8_11e8_b902_c49ded0e9327row11_col2\" class=\"data row11 col2\" >0.23</td> \n",
       "        <td id=\"T_42df1e5c_e9d8_11e8_b902_c49ded0e9327row11_col3\" class=\"data row11 col3\" >0.014</td> \n",
       "        <td id=\"T_42df1e5c_e9d8_11e8_b902_c49ded0e9327row11_col4\" class=\"data row11 col4\" >-0.13</td> \n",
       "        <td id=\"T_42df1e5c_e9d8_11e8_b902_c49ded0e9327row11_col5\" class=\"data row11 col5\" >-0.051</td> \n",
       "        <td id=\"T_42df1e5c_e9d8_11e8_b902_c49ded0e9327row11_col6\" class=\"data row11 col6\" >-0.19</td> \n",
       "        <td id=\"T_42df1e5c_e9d8_11e8_b902_c49ded0e9327row11_col7\" class=\"data row11 col7\" >-0.17</td> \n",
       "        <td id=\"T_42df1e5c_e9d8_11e8_b902_c49ded0e9327row11_col8\" class=\"data row11 col8\" >-0.058</td> \n",
       "        <td id=\"T_42df1e5c_e9d8_11e8_b902_c49ded0e9327row11_col9\" class=\"data row11 col9\" >0.25</td> \n",
       "        <td id=\"T_42df1e5c_e9d8_11e8_b902_c49ded0e9327row11_col10\" class=\"data row11 col10\" >0.48</td> \n",
       "        <td id=\"T_42df1e5c_e9d8_11e8_b902_c49ded0e9327row11_col11\" class=\"data row11 col11\" >1</td> \n",
       "    </tr></tbody> \n",
       "</table> "
      ],
      "text/plain": [
       "<pandas.io.formats.style.Styler at 0x1bc68ce1d30>"
      ]
     },
     "execution_count": 3,
     "metadata": {},
     "output_type": "execute_result"
    }
   ],
   "source": [
    "corr = data.corr()\n",
    "corr.style.background_gradient().set_precision(2)"
   ]
  },
  {
   "cell_type": "code",
   "execution_count": 4,
   "metadata": {},
   "outputs": [
    {
     "data": {
      "text/plain": [
       "array([5, 6, 7, 4, 8, 3], dtype=int64)"
      ]
     },
     "execution_count": 4,
     "metadata": {},
     "output_type": "execute_result"
    }
   ],
   "source": [
    "#Finding the unique values in our feature variable\n",
    "data['quality'].unique()"
   ]
  },
  {
   "cell_type": "code",
   "execution_count": 55,
   "metadata": {},
   "outputs": [
    {
     "data": {
      "text/plain": [
       "3     10\n",
       "4     53\n",
       "5    681\n",
       "6    638\n",
       "7    199\n",
       "8     18\n",
       "Name: quality, dtype: int64"
      ]
     },
     "execution_count": 55,
     "metadata": {},
     "output_type": "execute_result"
    }
   ],
   "source": [
    "#Let's check how many different wines have the different ratings\n",
    "data.quality.value_counts().sort_index()"
   ]
  },
  {
   "cell_type": "code",
   "execution_count": 62,
   "metadata": {},
   "outputs": [
    {
     "data": {
      "text/plain": [
       "<matplotlib.axes._subplots.AxesSubplot at 0x22a79978208>"
      ]
     },
     "execution_count": 62,
     "metadata": {},
     "output_type": "execute_result"
    },
    {
     "data": {
      "image/png": "[encoded data removed]",
      "text/plain": [
       "<Figure size 432x288 with 1 Axes>"
      ]
     },
     "metadata": {
      "needs_background": "light"
     },
     "output_type": "display_data"
    }
   ],
   "source": [
    "#Visually representing the count using Bar plot\n",
    "sns.countplot(x = 'quality', data = data)"
   ]
  },
  {
   "cell_type": "code",
   "execution_count": 8,
   "metadata": {},
   "outputs": [],
   "source": [
    "check = [ (data['quality'] > 7), (data['quality'] < 4)]\n",
    "rating = ['good', 'bad']\n",
    "data['rating'] = np.select(check, rating, default='average')"
   ]
  },
  {
   "cell_type": "code",
   "execution_count": 66,
   "metadata": {},
   "outputs": [
    {
     "data": {
      "text/plain": [
       "average    1571\n",
       "good         18\n",
       "bad          10\n",
       "Name: rating, dtype: int64"
      ]
     },
     "execution_count": 66,
     "metadata": {},
     "output_type": "execute_result"
    }
   ],
   "source": [
    "#Counting the rating of different wines based on the criteria we decided earlier.\n",
    "data.rating.value_counts()"
   ]
  },
  {
   "cell_type": "code",
   "execution_count": 68,
   "metadata": {},
   "outputs": [
    {
     "data": {
      "text/html": [
       "<div>\n",
       "<style scoped>\n",
       "    .dataframe tbody tr th:only-of-type {\n",
       "        vertical-align: middle;\n",
       "    }\n",
       "\n",
       "    .dataframe tbody tr th {\n",
       "        vertical-align: top;\n",
       "    }\n",
       "\n",
       "    .dataframe thead th {\n",
       "        text-align: right;\n",
       "    }\n",
       "</style>\n",
       "<table border=\"1\" class=\"dataframe\">\n",
       "  <thead>\n",
       "    <tr style=\"text-align: right;\">\n",
       "      <th></th>\n",
       "      <th>fixed acidity</th>\n",
       "      <th>volatile acidity</th>\n",
       "      <th>citric acid</th>\n",
       "      <th>residual sugar</th>\n",
       "      <th>chlorides</th>\n",
       "      <th>free sulfur dioxide</th>\n",
       "      <th>total sulfur dioxide</th>\n",
       "      <th>density</th>\n",
       "      <th>pH</th>\n",
       "      <th>sulphates</th>\n",
       "      <th>alcohol</th>\n",
       "      <th>quality</th>\n",
       "    </tr>\n",
       "    <tr>\n",
       "      <th>rating</th>\n",
       "      <th></th>\n",
       "      <th></th>\n",
       "      <th></th>\n",
       "      <th></th>\n",
       "      <th></th>\n",
       "      <th></th>\n",
       "      <th></th>\n",
       "      <th></th>\n",
       "      <th></th>\n",
       "      <th></th>\n",
       "      <th></th>\n",
       "      <th></th>\n",
       "    </tr>\n",
       "  </thead>\n",
       "  <tbody>\n",
       "    <tr>\n",
       "      <th>average</th>\n",
       "      <td>8.316550</td>\n",
       "      <td>0.526747</td>\n",
       "      <td>0.270236</td>\n",
       "      <td>2.537747</td>\n",
       "      <td>0.087461</td>\n",
       "      <td>15.935710</td>\n",
       "      <td>46.754297</td>\n",
       "      <td>0.996760</td>\n",
       "      <td>3.311063</td>\n",
       "      <td>0.657454</td>\n",
       "      <td>10.406811</td>\n",
       "      <td>5.625716</td>\n",
       "    </tr>\n",
       "    <tr>\n",
       "      <th>bad</th>\n",
       "      <td>8.360000</td>\n",
       "      <td>0.884500</td>\n",
       "      <td>0.171000</td>\n",
       "      <td>2.635000</td>\n",
       "      <td>0.122500</td>\n",
       "      <td>11.000000</td>\n",
       "      <td>24.900000</td>\n",
       "      <td>0.997464</td>\n",
       "      <td>3.398000</td>\n",
       "      <td>0.570000</td>\n",
       "      <td>9.955000</td>\n",
       "      <td>3.000000</td>\n",
       "    </tr>\n",
       "    <tr>\n",
       "      <th>good</th>\n",
       "      <td>8.566667</td>\n",
       "      <td>0.423333</td>\n",
       "      <td>0.391111</td>\n",
       "      <td>2.577778</td>\n",
       "      <td>0.068444</td>\n",
       "      <td>13.277778</td>\n",
       "      <td>33.444444</td>\n",
       "      <td>0.995212</td>\n",
       "      <td>3.267222</td>\n",
       "      <td>0.767778</td>\n",
       "      <td>12.094444</td>\n",
       "      <td>8.000000</td>\n",
       "    </tr>\n",
       "  </tbody>\n",
       "</table>\n",
       "</div>"
      ],
      "text/plain": [
       "         fixed acidity  volatile acidity  citric acid  residual sugar  \\\n",
       "rating                                                                  \n",
       "average       8.316550          0.526747     0.270236        2.537747   \n",
       "bad           8.360000          0.884500     0.171000        2.635000   \n",
       "good          8.566667          0.423333     0.391111        2.577778   \n",
       "\n",
       "         chlorides  free sulfur dioxide  total sulfur dioxide   density  \\\n",
       "rating                                                                    \n",
       "average   0.087461            15.935710             46.754297  0.996760   \n",
       "bad       0.122500            11.000000             24.900000  0.997464   \n",
       "good      0.068444            13.277778             33.444444  0.995212   \n",
       "\n",
       "               pH  sulphates    alcohol   quality  \n",
       "rating                                             \n",
       "average  3.311063   0.657454  10.406811  5.625716  \n",
       "bad      3.398000   0.570000   9.955000  3.000000  \n",
       "good     3.267222   0.767778  12.094444  8.000000  "
      ]
     },
     "execution_count": 68,
     "metadata": {},
     "output_type": "execute_result"
    }
   ],
   "source": [
    "#Let's check how the mean of the all the feature variables varies by the different rating.\n",
    "data.groupby('rating').mean()"
   ]
  },
  {
   "cell_type": "code",
   "execution_count": 82,
   "metadata": {},
   "outputs": [
    {
     "data": {
      "text/plain": [
       "<matplotlib.axes._subplots.AxesSubplot at 0x22a16f09438>"
      ]
     },
     "execution_count": 82,
     "metadata": {},
     "output_type": "execute_result"
    },
    {
     "data": {
      "image/png": "[encoded data removed]",
      "text/plain": [
       "<Figure size 1008x504 with 2 Axes>"
      ]
     },
     "metadata": {
      "needs_background": "light"
     },
     "output_type": "display_data"
    }
   ],
   "source": [
    "#Finding the correlation between the different features of the dataframe\n",
    "corr = data.corr()\n",
    "plt.figure(figsize = (14, 7))\n",
    "sns.heatmap(corr, annot=True, linewidths=0.1, vmin = -1, cmap = 'Blues')"
   ]
  },
  {
   "cell_type": "code",
   "execution_count": 33,
   "metadata": {},
   "outputs": [
    {
     "data": {
      "text/plain": [
       "quality                 1.000000\n",
       "alcohol                 0.476166\n",
       "sulphates               0.251397\n",
       "citric acid             0.226373\n",
       "fixed acidity           0.124052\n",
       "residual sugar          0.013732\n",
       "free sulfur dioxide    -0.050656\n",
       "pH                     -0.057731\n",
       "chlorides              -0.128907\n",
       "density                -0.174919\n",
       "total sulfur dioxide   -0.185100\n",
       "volatile acidity       -0.390558\n",
       "Name: quality, dtype: float64"
      ]
     },
     "execution_count": 33,
     "metadata": {},
     "output_type": "execute_result"
    }
   ],
   "source": [
    "#Exploring more our response variable 'quality' and looking at how it is correlated with other features\n",
    "corr['quality'].sort_values(ascending = False, kind= 'quicksort')"
   ]
  },
  {
   "cell_type": "code",
   "execution_count": 89,
   "metadata": {},
   "outputs": [
    {
     "data": {
      "text/plain": [
       "[Text(0,0.5,'Alcohol'),\n",
       " Text(0.5,0,'Wine Quality'),\n",
       " Text(0.5,1,'Alcohol % in different wine quality types')]"
      ]
     },
     "execution_count": 89,
     "metadata": {},
     "output_type": "execute_result"
    },
    {
     "data": {
      "image/png": "[encoded data removed]",
      "text/plain": [
       "<Figure size 432x288 with 1 Axes>"
      ]
     },
     "metadata": {
      "needs_background": "light"
     },
     "output_type": "display_data"
    }
   ],
   "source": [
    "bx1 = sns.boxplot(x = 'quality', y = 'alcohol', data = data)\n",
    "bx1.set(xlabel = 'Wine Quality', ylabel = 'Alcohol', title = 'Alcohol % in different wine quality types')"
   ]
  },
  {
   "cell_type": "code",
   "execution_count": 9,
   "metadata": {},
   "outputs": [
    {
     "data": {
      "text/plain": [
       "[Text(0,0.5,'Alcohol'),\n",
       " Text(0.5,0,'Wine Rating'),\n",
       " Text(0.5,1,'Alcohol % in different wine rating')]"
      ]
     },
     "execution_count": 9,
     "metadata": {},
     "output_type": "execute_result"
    },
    {
     "data": {
      "image/png": "[encoded data removed]",
      "text/plain": [
       "<Figure size 432x288 with 1 Axes>"
      ]
     },
     "metadata": {
      "needs_background": "light"
     },
     "output_type": "display_data"
    }
   ],
   "source": [
    "bx1 = sns.boxplot(x = 'rating', y = 'alcohol', data = data)\n",
    "bx1.set(xlabel = 'Wine Rating', ylabel = 'Alcohol', title = 'Alcohol % in different wine rating')"
   ]
  },
  {
   "cell_type": "code",
   "execution_count": 12,
   "metadata": {},
   "outputs": [
    {
     "name": "stderr",
     "output_type": "stream",
     "text": [
      "C:\\Users\\savan\\Anaconda3\\New folder\\lib\\site-packages\\scipy\\stats\\stats.py:1713: FutureWarning: Using a non-tuple sequence for multidimensional indexing is deprecated; use `arr[tuple(seq)]` instead of `arr[seq]`. In the future this will be interpreted as an array index, `arr[np.array(seq)]`, which will result either in an error or a different result.\n",
      "  return np.add.reduce(sorted[indexer] * weights, axis=axis) / sumval\n"
     ]
    },
    {
     "data": {
      "text/plain": [
       "[Text(0,0.5,'Alcohol'),\n",
       " Text(0.5,0,'Wine Rating'),\n",
       " Text(0.5,1,'Alcohol % in different wine rating')]"
      ]
     },
     "execution_count": 12,
     "metadata": {},
     "output_type": "execute_result"
    },
    {
     "data": {
      "image/png": "[encoded data removed]",
      "text/plain": [
       "<Figure size 432x288 with 1 Axes>"
      ]
     },
     "metadata": {
      "needs_background": "light"
     },
     "output_type": "display_data"
    }
   ],
   "source": [
    "bx1 = sns.violinplot(x = 'rating', y = 'alcohol', data = data)\n",
    "bx1.set(xlabel = 'Wine Rating', ylabel = 'Alcohol', title = 'Alcohol % in different wine rating')"
   ]
  },
  {
   "cell_type": "code",
   "execution_count": 5,
   "metadata": {},
   "outputs": [
    {
     "data": {
      "text/plain": [
       "[Text(0,0.5,'volatile acidity'),\n",
       " Text(0.5,0,'Wine Quality'),\n",
       " Text(0.5,1,'Amount of volatile acidity in different wine quality types')]"
      ]
     },
     "execution_count": 5,
     "metadata": {},
     "output_type": "execute_result"
    },
    {
     "data": {
      "image/png": "[encoded data removed]",
      "text/plain": [
       "<Figure size 432x288 with 1 Axes>"
      ]
     },
     "metadata": {
      "needs_background": "light"
     },
     "output_type": "display_data"
    }
   ],
   "source": [
    "bx2 = sns.boxplot(x = 'quality', y = 'volatile acidity', data = data)\n",
    "bx2.set(xlabel = 'Wine Quality', ylabel = 'volatile acidity', title = 'Amount of volatile acidity in different wine quality types')"
   ]
  },
  {
   "cell_type": "code",
   "execution_count": 10,
   "metadata": {},
   "outputs": [
    {
     "data": {
      "text/plain": [
       "[Text(0,0.5,'volatile acidity'),\n",
       " Text(0.5,0,'Wine Rating'),\n",
       " Text(0.5,1,'Amount of volatile acidity in different wine rating')]"
      ]
     },
     "execution_count": 10,
     "metadata": {},
     "output_type": "execute_result"
    },
    {
     "data": {
      "image/png": "[encoded data removed]",
      "text/plain": [
       "<Figure size 432x288 with 1 Axes>"
      ]
     },
     "metadata": {
      "needs_background": "light"
     },
     "output_type": "display_data"
    }
   ],
   "source": [
    "bx2 = sns.boxplot(x = 'rating', y = 'volatile acidity', data = data)\n",
    "bx2.set(xlabel = 'Wine Rating', ylabel = 'volatile acidity', title = 'Amount of volatile acidity in different wine rating')"
   ]
  },
  {
   "cell_type": "code",
   "execution_count": 6,
   "metadata": {},
   "outputs": [
    {
     "data": {
      "text/plain": [
       "[Text(0,0.5,'citric acid'),\n",
       " Text(0.5,0,'Wine Quality'),\n",
       " Text(0.5,1,'Amount of citric acid in different wine quality types')]"
      ]
     },
     "execution_count": 6,
     "metadata": {},
     "output_type": "execute_result"
    },
    {
     "data": {
      "image/png": "[encoded data removed]",
      "text/plain": [
       "<Figure size 432x288 with 1 Axes>"
      ]
     },
     "metadata": {
      "needs_background": "light"
     },
     "output_type": "display_data"
    }
   ],
   "source": [
    "bx3 = sns.boxplot(x = 'quality', y = 'citric acid', data = data)\n",
    "bx3.set(xlabel = 'Wine Quality', ylabel = 'citric acid', title = 'Amount of citric acid in different wine quality types')"
   ]
  },
  {
   "cell_type": "code",
   "execution_count": 11,
   "metadata": {},
   "outputs": [
    {
     "data": {
      "text/plain": [
       "[Text(0,0.5,'citric acid'),\n",
       " Text(0.5,0,'Wine Rating'),\n",
       " Text(0.5,1,'Amount of citric acid in different wine rating')]"
      ]
     },
     "execution_count": 11,
     "metadata": {},
     "output_type": "execute_result"
    },
    {
     "data": {
      "image/png": "[encoded data removed]",
      "text/plain": [
       "<Figure size 432x288 with 1 Axes>"
      ]
     },
     "metadata": {
      "needs_background": "light"
     },
     "output_type": "display_data"
    }
   ],
   "source": [
    "bx3 = sns.boxplot(x = 'rating', y = 'citric acid', data = data)\n",
    "bx3.set(xlabel = 'Wine Rating', ylabel = 'citric acid', title = 'Amount of citric acid in different wine rating')"
   ]
  },
  {
   "cell_type": "code",
   "execution_count": 7,
   "metadata": {},
   "outputs": [
    {
     "data": {
      "text/plain": [
       "[Text(0,0.5,'sulphates'),\n",
       " Text(0.5,0,'Wine Quality'),\n",
       " Text(0.5,1,'Amount of sulphates in different wine quality types')]"
      ]
     },
     "execution_count": 7,
     "metadata": {},
     "output_type": "execute_result"
    },
    {
     "data": {
      "image/png": "[encoded data removed]",
      "text/plain": [
       "<Figure size 432x288 with 1 Axes>"
      ]
     },
     "metadata": {
      "needs_background": "light"
     },
     "output_type": "display_data"
    }
   ],
   "source": [
    "bx4 = sns.boxplot(x = 'quality', y = 'sulphates', data = data)\n",
    "bx4.set(xlabel = 'Wine Quality', ylabel = 'sulphates', title = 'Amount of sulphates in different wine quality types')"
   ]
  },
  {
   "cell_type": "code",
   "execution_count": 21,
   "metadata": {},
   "outputs": [
    {
     "name": "stderr",
     "output_type": "stream",
     "text": [
      "C:\\Users\\savan\\Anaconda3\\New folder\\lib\\site-packages\\scipy\\stats\\stats.py:1713: FutureWarning: Using a non-tuple sequence for multidimensional indexing is deprecated; use `arr[tuple(seq)]` instead of `arr[seq]`. In the future this will be interpreted as an array index, `arr[np.array(seq)]`, which will result either in an error or a different result.\n",
      "  return np.add.reduce(sorted[indexer] * weights, axis=axis) / sumval\n"
     ]
    },
    {
     "data": {
      "text/plain": [
       "<seaborn.axisgrid.FacetGrid at 0x1bc6aca5ba8>"
      ]
     },
     "execution_count": 21,
     "metadata": {},
     "output_type": "execute_result"
    },
    {
     "data": {
      "image/png": "[encoded data removed]",
      "text/plain": [
       "<Figure size 1080x360 with 3 Axes>"
      ]
     },
     "metadata": {
      "needs_background": "light"
     },
     "output_type": "display_data"
    }
   ],
   "source": [
    "sns.lmplot(y = 'residual sugar', x = 'alcohol', data = data, col='rating')"
   ]
  },
  {
   "cell_type": "code",
   "execution_count": 26,
   "metadata": {},
   "outputs": [
    {
     "data": {
      "text/plain": [
       "average    0.982489\n",
       "good       0.011257\n",
       "bad        0.006254\n",
       "Name: rating, dtype: float64"
      ]
     },
     "execution_count": 26,
     "metadata": {},
     "output_type": "execute_result"
    }
   ],
   "source": [
    "data.rating.value_counts(normalize = True)"
   ]
  },
  {
   "cell_type": "markdown",
   "metadata": {},
   "source": [
    "###### Even though the regression analysis shows that  for the average and good rated wines, the residual sugar remains pretty constant. But for the bad rated wines, the amount of residual sugar is pretty high. We can confirm from the analysis that, the amount of residual sugar does affect the quality or rating of the wines.\n",
    "\n",
    "###### But let's not directly jump to that conclusion, let's do some research on how many data points are considered in all of the three different ratings. It says that 98.2% of the wines are having average rating while just 1.1% and 0.06% are having the good and bad ratings respectively. If our dataset is a unbiased sample, overall it is very less probability that a particular wine will be having a good and bad rating and very highly likely it will have a rating between 4 and 7. It may happened here that it is a biased sample and that's is why it is giving a biased result. In that case, it may be hard to frame a good conclusion. \n",
    "\n",
    "###### The same concept applies to the rest of the analysis. The trend in the good and bad rating may be a reason for less number of datapoints available in that set."
   ]
  },
  {
   "cell_type": "code",
   "execution_count": 19,
   "metadata": {},
   "outputs": [
    {
     "name": "stderr",
     "output_type": "stream",
     "text": [
      "C:\\Users\\savan\\Anaconda3\\New folder\\lib\\site-packages\\scipy\\stats\\stats.py:1713: FutureWarning: Using a non-tuple sequence for multidimensional indexing is deprecated; use `arr[tuple(seq)]` instead of `arr[seq]`. In the future this will be interpreted as an array index, `arr[np.array(seq)]`, which will result either in an error or a different result.\n",
      "  return np.add.reduce(sorted[indexer] * weights, axis=axis) / sumval\n"
     ]
    },
    {
     "data": {
      "text/plain": [
       "<seaborn.axisgrid.FacetGrid at 0x1bc6adc5518>"
      ]
     },
     "execution_count": 19,
     "metadata": {},
     "output_type": "execute_result"
    },
    {
     "data": {
      "image/png": "[encoded data removed]",
      "text/plain": [
       "<Figure size 1080x360 with 3 Axes>"
      ]
     },
     "metadata": {
      "needs_background": "light"
     },
     "output_type": "display_data"
    }
   ],
   "source": [
    "sns.lmplot(y = 'sulphates', x = 'alcohol', data = data, col = 'rating')"
   ]
  },
  {
   "cell_type": "markdown",
   "metadata": {},
   "source": [
    "###### The above analysis shows that the rating may be lower for a wine with slightly less amount of sulphates. There are some outliers of average wines having close to 2.0 sulphates."
   ]
  },
  {
   "cell_type": "code",
   "execution_count": 23,
   "metadata": {},
   "outputs": [
    {
     "name": "stderr",
     "output_type": "stream",
     "text": [
      "C:\\Users\\savan\\Anaconda3\\New folder\\lib\\site-packages\\scipy\\stats\\stats.py:1713: FutureWarning: Using a non-tuple sequence for multidimensional indexing is deprecated; use `arr[tuple(seq)]` instead of `arr[seq]`. In the future this will be interpreted as an array index, `arr[np.array(seq)]`, which will result either in an error or a different result.\n",
      "  return np.add.reduce(sorted[indexer] * weights, axis=axis) / sumval\n"
     ]
    },
    {
     "data": {
      "text/plain": [
       "<seaborn.axisgrid.FacetGrid at 0x1bc6cdafe80>"
      ]
     },
     "execution_count": 23,
     "metadata": {},
     "output_type": "execute_result"
    },
    {
     "data": {
      "image/png": "[encoded data removed]",
      "text/plain": [
       "<Figure size 1080x360 with 3 Axes>"
      ]
     },
     "metadata": {
      "needs_background": "light"
     },
     "output_type": "display_data"
    }
   ],
   "source": [
    "sns.lmplot(y = 'pH', x = 'alcohol', data = data, col = 'rating')"
   ]
  },
  {
   "cell_type": "code",
   "execution_count": 31,
   "metadata": {},
   "outputs": [
    {
     "name": "stdout",
     "output_type": "stream",
     "text": [
      "X: <class 'pandas.core.frame.DataFrame'>\n",
      "Index(['Intercept', 'alcohol'], dtype='object')\n"
     ]
    },
    {
     "data": {
      "text/html": [
       "<table class=\"simpletable\">\n",
       "<caption>OLS Regression Results</caption>\n",
       "<tr>\n",
       "  <th>Dep. Variable:</th>         <td>quality</td>     <th>  R-squared:         </th> <td>   0.227</td>\n",
       "</tr>\n",
       "<tr>\n",
       "  <th>Model:</th>                   <td>OLS</td>       <th>  Adj. R-squared:    </th> <td>   0.226</td>\n",
       "</tr>\n",
       "<tr>\n",
       "  <th>Method:</th>             <td>Least Squares</td>  <th>  F-statistic:       </th> <td>   468.3</td>\n",
       "</tr>\n",
       "<tr>\n",
       "  <th>Date:</th>             <td>Fri, 16 Nov 2018</td> <th>  Prob (F-statistic):</th> <td>2.83e-91</td>\n",
       "</tr>\n",
       "<tr>\n",
       "  <th>Time:</th>                 <td>14:59:29</td>     <th>  Log-Likelihood:    </th> <td> -1721.1</td>\n",
       "</tr>\n",
       "<tr>\n",
       "  <th>No. Observations:</th>      <td>  1599</td>      <th>  AIC:               </th> <td>   3446.</td>\n",
       "</tr>\n",
       "<tr>\n",
       "  <th>Df Residuals:</th>          <td>  1597</td>      <th>  BIC:               </th> <td>   3457.</td>\n",
       "</tr>\n",
       "<tr>\n",
       "  <th>Df Model:</th>              <td>     1</td>      <th>                     </th>     <td> </td>   \n",
       "</tr>\n",
       "<tr>\n",
       "  <th>Covariance Type:</th>      <td>nonrobust</td>    <th>                     </th>     <td> </td>   \n",
       "</tr>\n",
       "</table>\n",
       "<table class=\"simpletable\">\n",
       "<tr>\n",
       "      <td></td>         <th>coef</th>     <th>std err</th>      <th>t</th>      <th>P>|t|</th>  <th>[0.025</th>    <th>0.975]</th>  \n",
       "</tr>\n",
       "<tr>\n",
       "  <th>Intercept</th> <td>    1.8750</td> <td>    0.175</td> <td>   10.732</td> <td> 0.000</td> <td>    1.532</td> <td>    2.218</td>\n",
       "</tr>\n",
       "<tr>\n",
       "  <th>alcohol</th>   <td>    0.3608</td> <td>    0.017</td> <td>   21.639</td> <td> 0.000</td> <td>    0.328</td> <td>    0.394</td>\n",
       "</tr>\n",
       "</table>\n",
       "<table class=\"simpletable\">\n",
       "<tr>\n",
       "  <th>Omnibus:</th>       <td>38.501</td> <th>  Durbin-Watson:     </th> <td>   1.748</td>\n",
       "</tr>\n",
       "<tr>\n",
       "  <th>Prob(Omnibus):</th> <td> 0.000</td> <th>  Jarque-Bera (JB):  </th> <td>  71.758</td>\n",
       "</tr>\n",
       "<tr>\n",
       "  <th>Skew:</th>          <td>-0.154</td> <th>  Prob(JB):          </th> <td>2.62e-16</td>\n",
       "</tr>\n",
       "<tr>\n",
       "  <th>Kurtosis:</th>      <td> 3.991</td> <th>  Cond. No.          </th> <td>    104.</td>\n",
       "</tr>\n",
       "</table><br/><br/>Warnings:<br/>[1] Standard Errors assume that the covariance matrix of the errors is correctly specified."
      ],
      "text/plain": [
       "<class 'statsmodels.iolib.summary.Summary'>\n",
       "\"\"\"\n",
       "                            OLS Regression Results                            \n",
       "==============================================================================\n",
       "Dep. Variable:                quality   R-squared:                       0.227\n",
       "Model:                            OLS   Adj. R-squared:                  0.226\n",
       "Method:                 Least Squares   F-statistic:                     468.3\n",
       "Date:                Fri, 16 Nov 2018   Prob (F-statistic):           2.83e-91\n",
       "Time:                        14:59:29   Log-Likelihood:                -1721.1\n",
       "No. Observations:                1599   AIC:                             3446.\n",
       "Df Residuals:                    1597   BIC:                             3457.\n",
       "Df Model:                           1                                         \n",
       "Covariance Type:            nonrobust                                         \n",
       "==============================================================================\n",
       "                 coef    std err          t      P>|t|      [0.025      0.975]\n",
       "------------------------------------------------------------------------------\n",
       "Intercept      1.8750      0.175     10.732      0.000       1.532       2.218\n",
       "alcohol        0.3608      0.017     21.639      0.000       0.328       0.394\n",
       "==============================================================================\n",
       "Omnibus:                       38.501   Durbin-Watson:                   1.748\n",
       "Prob(Omnibus):                  0.000   Jarque-Bera (JB):               71.758\n",
       "Skew:                          -0.154   Prob(JB):                     2.62e-16\n",
       "Kurtosis:                       3.991   Cond. No.                         104.\n",
       "==============================================================================\n",
       "\n",
       "Warnings:\n",
       "[1] Standard Errors assume that the covariance matrix of the errors is correctly specified.\n",
       "\"\"\""
      ]
     },
     "execution_count": 31,
     "metadata": {},
     "output_type": "execute_result"
    }
   ],
   "source": [
    "y, X = dmatrices('quality ~ alcohol', data = data, return_type= 'dataframe')\n",
    "print('X:', type(X))\n",
    "print(X.columns)\n",
    "model = smf.OLS(y, X)\n",
    "result = model.fit()\n",
    "result.summary()"
   ]
  },
  {
   "cell_type": "code",
   "execution_count": 32,
   "metadata": {},
   "outputs": [
    {
     "data": {
      "text/plain": [
       "Intercept    1.874975\n",
       "alcohol      0.360842\n",
       "dtype: float64"
      ]
     },
     "execution_count": 32,
     "metadata": {},
     "output_type": "execute_result"
    }
   ],
   "source": [
    "result.params"
   ]
  },
  {
   "cell_type": "code",
   "execution_count": 117,
   "metadata": {},
   "outputs": [],
   "source": [
    "cols = ['fixed acidity', 'volatile acidity', 'citric acid', 'residual sugar',\n",
    "       'chlorides', 'free sulfur dioxide', 'total sulfur dioxide', 'density',\n",
    "       'pH', 'sulphates', 'alcohol']"
   ]
  },
  {
   "cell_type": "code",
   "execution_count": 165,
   "metadata": {},
   "outputs": [],
   "source": [
    "cols = ['sulphates']"
   ]
  },
  {
   "cell_type": "code",
   "execution_count": 166,
   "metadata": {},
   "outputs": [],
   "source": [
    "X = data[cols]\n",
    "y = data['quality']"
   ]
  },
  {
   "cell_type": "code",
   "execution_count": 167,
   "metadata": {},
   "outputs": [
    {
     "name": "stdout",
     "output_type": "stream",
     "text": [
      "MSE: 0.5448576648306698\n",
      "RMSE: 0.7381447451758156\n"
     ]
    }
   ],
   "source": [
    "X_train, X_test, y_train, y_test = train_test_split(X, y, random_state = 1)\n",
    "regmodel = LinearRegression()\n",
    "regmodel.fit(X_train, y_train)\n",
    "ypred = regmodel.predict(X_test)\n",
    "print('MSE:', metrics.mean_squared_error(y_test, ypred))\n",
    "print('RMSE:', np.sqrt(metrics.mean_squared_error(y_test, ypred)))"
   ]
  },
  {
   "cell_type": "code",
   "execution_count": 163,
   "metadata": {},
   "outputs": [
    {
     "name": "stdout",
     "output_type": "stream",
     "text": [
      "Intercept: 5.404853962088465\n",
      "Coefficients: [0.90057565]\n"
     ]
    }
   ],
   "source": [
    "print('Intercept:', regmodel.intercept_)\n",
    "print('Coefficients:', regmodel.coef_)"
   ]
  },
  {
   "cell_type": "code",
   "execution_count": 164,
   "metadata": {},
   "outputs": [
    {
     "data": {
      "text/plain": [
       "array([5.44087699])"
      ]
     },
     "execution_count": 164,
     "metadata": {},
     "output_type": "execute_result"
    }
   ],
   "source": [
    "regmodel.predict(0.04)"
   ]
  },
  {
   "cell_type": "code",
   "execution_count": 153,
   "metadata": {},
   "outputs": [],
   "source": [
    "loop = data.alcohol\n",
    "alcohol_pred = []\n",
    "for i in loop:\n",
    "    x = regmodel.predict(i)\n",
    "    alcohol_pred.append(x)"
   ]
  },
  {
   "cell_type": "code",
   "execution_count": 154,
   "metadata": {},
   "outputs": [],
   "source": [
    "alcohol_pred = pd.Series(alcohol_pred)"
   ]
  },
  {
   "cell_type": "code",
   "execution_count": 159,
   "metadata": {},
   "outputs": [
    {
     "data": {
      "text/plain": [
       "Text(0.5,1,'Alcohol percentage vs Wine Quality')"
      ]
     },
     "execution_count": 159,
     "metadata": {},
     "output_type": "execute_result"
    },
    {
     "data": {
      "image/png": "[encoded data removed]",
      "text/plain": [
       "<Figure size 432x288 with 1 Axes>"
      ]
     },
     "metadata": {
      "needs_background": "light"
     },
     "output_type": "display_data"
    }
   ],
   "source": [
    "plt.plot(alcohol_pred, data.alcohol)\n",
    "plt.xlabel('Quality')\n",
    "plt.ylabel('Alcohol %')\n",
    "plt.title('Alcohol percentage vs Wine Quality')"
   ]
  },
  {
   "cell_type": "code",
   "execution_count": 174,
   "metadata": {},
   "outputs": [],
   "source": [
    "data['goodbad'] = (data['quality'] > 4).astype(np.float32)"
   ]
  },
  {
   "cell_type": "code",
   "execution_count": 178,
   "metadata": {},
   "outputs": [
    {
     "data": {
      "text/plain": [
       "1.0    0.9606\n",
       "0.0    0.0394\n",
       "Name: goodbad, dtype: float64"
      ]
     },
     "execution_count": 178,
     "metadata": {},
     "output_type": "execute_result"
    }
   ],
   "source": [
    "data.goodbad.value_counts(normalize=True)"
   ]
  },
  {
   "cell_type": "code",
   "execution_count": 223,
   "metadata": {},
   "outputs": [],
   "source": [
    "X = data[['alcohol']]\n",
    "y = data['goodbad']"
   ]
  },
  {
   "cell_type": "markdown",
   "metadata": {},
   "source": [
    "#### Logistic Regression"
   ]
  },
  {
   "cell_type": "code",
   "execution_count": 224,
   "metadata": {},
   "outputs": [
    {
     "name": "stdout",
     "output_type": "stream",
     "text": [
      " Logistic Reg. Accuracy Score: 0.9575\n"
     ]
    }
   ],
   "source": [
    "X_train, X_test, y_train, y_test = train_test_split(X, y, random_state = 1)\n",
    "mymodel = LogisticRegression()\n",
    "mymodel.fit(X_train, y_train)\n",
    "log_pred = mymodel.predict(X_test)\n",
    "print(' Logistic Reg. Accuracy Score:', metrics.accuracy_score(y_test, log_pred))"
   ]
  },
  {
   "cell_type": "code",
   "execution_count": 203,
   "metadata": {
    "scrolled": true
   },
   "outputs": [
    {
     "data": {
      "text/plain": [
       "array([1.], dtype=float32)"
      ]
     },
     "execution_count": 203,
     "metadata": {},
     "output_type": "execute_result"
    }
   ],
   "source": [
    "mymodel.predict(9.4)"
   ]
  },
  {
   "cell_type": "markdown",
   "metadata": {},
   "source": [
    "##### kNN Clustering"
   ]
  },
  {
   "cell_type": "code",
   "execution_count": 226,
   "metadata": {},
   "outputs": [],
   "source": [
    "X = data[['alcohol']]\n",
    "y = data['goodbad']"
   ]
  },
  {
   "cell_type": "code",
   "execution_count": 235,
   "metadata": {},
   "outputs": [
    {
     "name": "stdout",
     "output_type": "stream",
     "text": [
      "KNN Accuracy Score: 0.9575\n"
     ]
    }
   ],
   "source": [
    "knn = KNeighborsClassifier(n_neighbors=4)\n",
    "knn.fit(X_train, y_train)\n",
    "knn_pred = knn.predict(X_test)\n",
    "print('KNN Accuracy Score:', metrics.accuracy_score(knn_pred, y_test))"
   ]
  },
  {
   "cell_type": "code",
   "execution_count": 230,
   "metadata": {},
   "outputs": [],
   "source": [
    "k_range = range(1, 26)\n",
    "scores = []\n",
    "for k in k_range:\n",
    "    knn = KNeighborsClassifier(n_neighbors=k)\n",
    "    knn.fit(X_train, y_train)\n",
    "    knn_pred = knn.predict(X_test)\n",
    "    scores.append(metrics.accuracy_score(knn_pred, y_test))"
   ]
  },
  {
   "cell_type": "code",
   "execution_count": 231,
   "metadata": {},
   "outputs": [
    {
     "name": "stdout",
     "output_type": "stream",
     "text": [
      "[0.9375, 0.8825, 0.9575, 0.9575, 0.9575, 0.9575, 0.9575, 0.9575, 0.9575, 0.9575, 0.9575, 0.9575, 0.9575, 0.9575, 0.9575, 0.9575, 0.9575, 0.9575, 0.9575, 0.9575, 0.9575, 0.9575, 0.9575, 0.9575, 0.9575]\n"
     ]
    }
   ],
   "source": [
    "print(scores)"
   ]
  },
  {
   "cell_type": "code",
   "execution_count": 232,
   "metadata": {},
   "outputs": [
    {
     "data": {
      "text/plain": [
       "Text(0,0.5,'Testing Accuracy')"
      ]
     },
     "execution_count": 232,
     "metadata": {},
     "output_type": "execute_result"
    },
    {
     "data": {
      "image/png": "[encoded data removed]",
      "text/plain": [
       "<Figure size 432x288 with 1 Axes>"
      ]
     },
     "metadata": {
      "needs_background": "light"
     },
     "output_type": "display_data"
    }
   ],
   "source": [
    "plt.plot(k_range, scores)\n",
    "plt.xlabel('Value of K')\n",
    "plt.ylabel('Testing Accuracy')"
   ]
  },
  {
   "cell_type": "code",
   "execution_count": 236,
   "metadata": {
    "scrolled": true
   },
   "outputs": [
    {
     "data": {
      "text/html": [
       "<div>\n",
       "<style scoped>\n",
       "    .dataframe tbody tr th:only-of-type {\n",
       "        vertical-align: middle;\n",
       "    }\n",
       "\n",
       "    .dataframe tbody tr th {\n",
       "        vertical-align: top;\n",
       "    }\n",
       "\n",
       "    .dataframe thead th {\n",
       "        text-align: right;\n",
       "    }\n",
       "</style>\n",
       "<table border=\"1\" class=\"dataframe\">\n",
       "  <thead>\n",
       "    <tr style=\"text-align: right;\">\n",
       "      <th></th>\n",
       "      <th>fixed acidity</th>\n",
       "      <th>volatile acidity</th>\n",
       "      <th>citric acid</th>\n",
       "      <th>residual sugar</th>\n",
       "      <th>chlorides</th>\n",
       "      <th>free sulfur dioxide</th>\n",
       "      <th>total sulfur dioxide</th>\n",
       "      <th>density</th>\n",
       "      <th>pH</th>\n",
       "      <th>sulphates</th>\n",
       "      <th>alcohol</th>\n",
       "      <th>quality</th>\n",
       "      <th>goodbad</th>\n",
       "    </tr>\n",
       "  </thead>\n",
       "  <tbody>\n",
       "    <tr>\n",
       "      <th>count</th>\n",
       "      <td>1599.000000</td>\n",
       "      <td>1599.000000</td>\n",
       "      <td>1599.000000</td>\n",
       "      <td>1599.000000</td>\n",
       "      <td>1599.000000</td>\n",
       "      <td>1599.000000</td>\n",
       "      <td>1599.000000</td>\n",
       "      <td>1599.000000</td>\n",
       "      <td>1599.000000</td>\n",
       "      <td>1599.000000</td>\n",
       "      <td>1599.000000</td>\n",
       "      <td>1599.000000</td>\n",
       "      <td>1599.000000</td>\n",
       "    </tr>\n",
       "    <tr>\n",
       "      <th>mean</th>\n",
       "      <td>8.319637</td>\n",
       "      <td>0.527821</td>\n",
       "      <td>0.270976</td>\n",
       "      <td>2.538806</td>\n",
       "      <td>0.087467</td>\n",
       "      <td>15.874922</td>\n",
       "      <td>46.467792</td>\n",
       "      <td>0.996747</td>\n",
       "      <td>3.311113</td>\n",
       "      <td>0.658149</td>\n",
       "      <td>10.422983</td>\n",
       "      <td>5.636023</td>\n",
       "      <td>0.960600</td>\n",
       "    </tr>\n",
       "    <tr>\n",
       "      <th>std</th>\n",
       "      <td>1.741096</td>\n",
       "      <td>0.179060</td>\n",
       "      <td>0.194801</td>\n",
       "      <td>1.409928</td>\n",
       "      <td>0.047065</td>\n",
       "      <td>10.460157</td>\n",
       "      <td>32.895324</td>\n",
       "      <td>0.001887</td>\n",
       "      <td>0.154386</td>\n",
       "      <td>0.169507</td>\n",
       "      <td>1.065668</td>\n",
       "      <td>0.807569</td>\n",
       "      <td>0.194605</td>\n",
       "    </tr>\n",
       "    <tr>\n",
       "      <th>min</th>\n",
       "      <td>4.600000</td>\n",
       "      <td>0.120000</td>\n",
       "      <td>0.000000</td>\n",
       "      <td>0.900000</td>\n",
       "      <td>0.012000</td>\n",
       "      <td>1.000000</td>\n",
       "      <td>6.000000</td>\n",
       "      <td>0.990070</td>\n",
       "      <td>2.740000</td>\n",
       "      <td>0.330000</td>\n",
       "      <td>8.400000</td>\n",
       "      <td>3.000000</td>\n",
       "      <td>0.000000</td>\n",
       "    </tr>\n",
       "    <tr>\n",
       "      <th>25%</th>\n",
       "      <td>7.100000</td>\n",
       "      <td>0.390000</td>\n",
       "      <td>0.090000</td>\n",
       "      <td>1.900000</td>\n",
       "      <td>0.070000</td>\n",
       "      <td>7.000000</td>\n",
       "      <td>22.000000</td>\n",
       "      <td>0.995600</td>\n",
       "      <td>3.210000</td>\n",
       "      <td>0.550000</td>\n",
       "      <td>9.500000</td>\n",
       "      <td>5.000000</td>\n",
       "      <td>1.000000</td>\n",
       "    </tr>\n",
       "    <tr>\n",
       "      <th>50%</th>\n",
       "      <td>7.900000</td>\n",
       "      <td>0.520000</td>\n",
       "      <td>0.260000</td>\n",
       "      <td>2.200000</td>\n",
       "      <td>0.079000</td>\n",
       "      <td>14.000000</td>\n",
       "      <td>38.000000</td>\n",
       "      <td>0.996750</td>\n",
       "      <td>3.310000</td>\n",
       "      <td>0.620000</td>\n",
       "      <td>10.200000</td>\n",
       "      <td>6.000000</td>\n",
       "      <td>1.000000</td>\n",
       "    </tr>\n",
       "    <tr>\n",
       "      <th>75%</th>\n",
       "      <td>9.200000</td>\n",
       "      <td>0.640000</td>\n",
       "      <td>0.420000</td>\n",
       "      <td>2.600000</td>\n",
       "      <td>0.090000</td>\n",
       "      <td>21.000000</td>\n",
       "      <td>62.000000</td>\n",
       "      <td>0.997835</td>\n",
       "      <td>3.400000</td>\n",
       "      <td>0.730000</td>\n",
       "      <td>11.100000</td>\n",
       "      <td>6.000000</td>\n",
       "      <td>1.000000</td>\n",
       "    </tr>\n",
       "    <tr>\n",
       "      <th>max</th>\n",
       "      <td>15.900000</td>\n",
       "      <td>1.580000</td>\n",
       "      <td>1.000000</td>\n",
       "      <td>15.500000</td>\n",
       "      <td>0.611000</td>\n",
       "      <td>72.000000</td>\n",
       "      <td>289.000000</td>\n",
       "      <td>1.003690</td>\n",
       "      <td>4.010000</td>\n",
       "      <td>2.000000</td>\n",
       "      <td>14.900000</td>\n",
       "      <td>8.000000</td>\n",
       "      <td>1.000000</td>\n",
       "    </tr>\n",
       "  </tbody>\n",
       "</table>\n",
       "</div>"
      ],
      "text/plain": [
       "       fixed acidity  volatile acidity  citric acid  residual sugar  \\\n",
       "count    1599.000000       1599.000000  1599.000000     1599.000000   \n",
       "mean        8.319637          0.527821     0.270976        2.538806   \n",
       "std         1.741096          0.179060     0.194801        1.409928   \n",
       "min         4.600000          0.120000     0.000000        0.900000   \n",
       "25%         7.100000          0.390000     0.090000        1.900000   \n",
       "50%         7.900000          0.520000     0.260000        2.200000   \n",
       "75%         9.200000          0.640000     0.420000        2.600000   \n",
       "max        15.900000          1.580000     1.000000       15.500000   \n",
       "\n",
       "         chlorides  free sulfur dioxide  total sulfur dioxide      density  \\\n",
       "count  1599.000000          1599.000000           1599.000000  1599.000000   \n",
       "mean      0.087467            15.874922             46.467792     0.996747   \n",
       "std       0.047065            10.460157             32.895324     0.001887   \n",
       "min       0.012000             1.000000              6.000000     0.990070   \n",
       "25%       0.070000             7.000000             22.000000     0.995600   \n",
       "50%       0.079000            14.000000             38.000000     0.996750   \n",
       "75%       0.090000            21.000000             62.000000     0.997835   \n",
       "max       0.611000            72.000000            289.000000     1.003690   \n",
       "\n",
       "                pH    sulphates      alcohol      quality      goodbad  \n",
       "count  1599.000000  1599.000000  1599.000000  1599.000000  1599.000000  \n",
       "mean      3.311113     0.658149    10.422983     5.636023     0.960600  \n",
       "std       0.154386     0.169507     1.065668     0.807569     0.194605  \n",
       "min       2.740000     0.330000     8.400000     3.000000     0.000000  \n",
       "25%       3.210000     0.550000     9.500000     5.000000     1.000000  \n",
       "50%       3.310000     0.620000    10.200000     6.000000     1.000000  \n",
       "75%       3.400000     0.730000    11.100000     6.000000     1.000000  \n",
       "max       4.010000     2.000000    14.900000     8.000000     1.000000  "
      ]
     },
     "execution_count": 236,
     "metadata": {},
     "output_type": "execute_result"
    }
   ],
   "source": [
    "data.describe()"
   ]
  },
  {
   "cell_type": "markdown",
   "metadata": {},
   "source": [
    "#### Conclusion"
   ]
  },
  {
   "cell_type": "markdown",
   "metadata": {},
   "source": [
    "#### The above machine learning model like Linear Regression are used to predict the quality of the wines ranging from 3 and 8. Logistic Regression is used to predict that the wine is above the average or not, while kNN classification is used to classify the wines based on its nearest neighbors."
   ]
  },
  {
   "cell_type": "code",
   "execution_count": null,
   "metadata": {},
   "outputs": [],
   "source": []
  }
 ],
 "metadata": {
  "kernelspec": {
   "display_name": "Python 3",
   "language": "python",
   "name": "python3"
  },
  "language_info": {
   "codemirror_mode": {
    "name": "ipython",
    "version": 3
   },
   "file_extension": ".py",
   "mimetype": "text/x-python",
   "name": "python",
   "nbconvert_exporter": "python",
   "pygments_lexer": "ipython3",
   "version": "3.7.0"
  }
 },
 "nbformat": 4,
 "nbformat_minor": 2
}
